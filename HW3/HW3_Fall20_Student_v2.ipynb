{
 "cells": [
  {
   "cell_type": "markdown",
   "metadata": {},
   "source": [
    "## Fall 2020 CS 4641\\7641 A: Machine Learning Homework 3\n",
    "\n",
    "## Instructor: Dr. Mahdi Roozbahani\n",
    "\n",
    "## Deadline: October 28th, Wednesday, AOE\n",
    "\n",
    "* No unapproved extension of the deadline is allowed. Late submission will lead to 0 credit. \n",
    "\n",
    "* Discussion is encouraged on Piazza as part of the Q/A. However, all assignments should be done individually."
   ]
  },
  {
   "cell_type": "markdown",
   "metadata": {},
   "source": [
    "## Instructions for the assignment\n",
    "\n",
    "- In this assignment, we have programming and writing questions.\n",
    "- To switch between cell for code and for markdown, see the menu -> Cell -> Cell Type\n",
    "- You could directly type the Latex equations in the markdown cell.\n",
    "- Typing with Latex\\markdown is required for all the written questions. Handwritten answers would not be accepted. \n",
    "- If a question requires a picture, you could use this syntax $\"<img src=\"\" style=\"width: 300px;\"/>\"$ to include them within your ipython notebook.\n",
    "- Questions marked with <span style=\"color:blue\">**[P]**</span> are programming only and should be submitted to the autograder. Questions marked with <span style=\"color:green\">**[W]**</span> may required that you code a small function or generate plots, but should **NOT** be submitted to the autograder. It should be submitted on the writing portion of the assignment on gradescope\n",
    "- The outline of the assignment is as follows:\n",
    "    * Q1 [30 pts] > Image compression with SVD <span style=\"color:green\">**[W]** 1.2 and 1.3 </span>| <span style=\"color:blue\">**[P]** items 1.1 </span>\n",
    "    * Q2 [15 pts] > Understanding PCA <span style=\"color:green\">**[W]** items 2.2 </span>| <span style=\"color:blue\">**[P]** 2.1 </span>\n",
    "    * Q3 [55+(20 bonus for undergrads)]> Regression and regularization <span style=\"color:green\">**[W]** items 3.2, 3.3, 3.4 and 3.5 </span>| <span style=\"color:blue\">**[P]** items 3.1 </span>\n",
    "    * Q4 [20 pts] > Naive Bayes classification. <span style=\"color:green\">**[W]** items 4.1 </span>| <span style=\"color:blue\">**[P]** items 4.2 </span>\n",
    "    * Q5 [15 pts] > Noise in PCA and Linear Regression. <span style=\"color:green\">**[W]** items 5.1, 5.2 and 5.3 </span>\n",
    "    * Q6 [Bonus for all][30 pts] > Manifold learning with Isomap <span style=\"color:green\">**[W]** items 6.2 </span>| <span style=\"color:blue\">**[P]** items 6.1 </span>\n",
    "    * Q7 [No Points] > Feature Selection. <span style=\"color:blue\">**[P]** items 7 </span>\n",
    "\n",
    "\n",
    "\n",
    "## Using the autograder\n",
    "\n",
    "- You will find two assignments on Gradescope that correspond to HW3: \"HW3 - Programming\" and \"HW3 - Non-programming\".\n",
    "- You will submit your code for the autograder on \"HW3 - Programming\" in the following format:\n",
    "\n",
    "    * imgcompression.py\n",
    "    * pca.py\n",
    "    * regression.py\n",
    "    * nb.py\n",
    "    * isomap.py\n",
    "\n",
    "- All you will have to do is to copy your implementations of the classes \"ImgCompression\", \"PCA\", \"Regression\", \"NaiveBayes\", \"Isomap\" onto the respective files. We provided you different .py files and we added libraries in those files please DO NOT remove those lines and add your code after those lines. Note that these are the only allowed libraries that you can use for the homework.\n",
    "\n",
    "- You are allowed to make as many submissions until the deadline as you like. Additionally, note that the autograder tests each function separately, therefore it can serve as a useful tool to help you debug your code if you are not sure of what part of your implementation might have an issue.\n",
    "\n",
    "- **For the \"HW3 - Non-programming\" part, you will download your jupyter notbook as HTML, print it as a PDF from your browser and submit it on Gradescope. To download the notebook as html, click on \"File\" on the top left corner of this page and select \"Download as > HTML\". The non-programming part corresponds to Q1.2 - 1.3, Q2.2, Q3.2 - 3.5, Q4.1, Q5 and Q6.2. For questions that include images include both your response and the generated images in your submission**"
   ]
  },
  {
   "cell_type": "code",
   "execution_count": null,
   "metadata": {},
   "outputs": [],
   "source": [
    "# HELPER CELL, DO NOT MODIFY\n",
    "# This is cell which sets up some of the modules you might need \n",
    "# Please do not change the cell or import any additional packages. \n",
    "\n",
    "import numpy as np\n",
    "import json\n",
    "from matplotlib import pyplot as plt\n",
    "from mpl_toolkits.mplot3d import Axes3D\n",
    "from sklearn.feature_extraction import text\n",
    "from sklearn.datasets import load_boston, load_diabetes, load_digits, load_breast_cancer, load_iris, load_wine\n",
    "from sklearn.linear_model import Ridge, LogisticRegression\n",
    "from sklearn.model_selection import train_test_split\n",
    "from sklearn.metrics import mean_squared_error, accuracy_score\n",
    "from scipy.sparse import csr_matrix\n",
    "from scipy.sparse.csgraph import floyd_warshall\n",
    "import warnings\n",
    "\n",
    "warnings.filterwarnings('ignore')\n",
    "\n",
    "%matplotlib inline"
   ]
  },
  {
   "cell_type": "markdown",
   "metadata": {
    "colab_type": "text",
    "id": "hdZ6tPq2ifTp",
    "run_control": {
     "frozen": false,
     "read_only": false
    }
   },
   "source": [
    "## 1. Image compression with SVD [30 pts]  <span style=\"color:blue\">**[P]**</span>  <span style=\"color:green\">**[W]**</span>\n"
   ]
  },
  {
   "cell_type": "markdown",
   "metadata": {
    "colab_type": "text",
    "id": "5oTTYpV9Ur0j",
    "run_control": {
     "frozen": false,
     "read_only": false
    }
   },
   "source": [
    "### Load images data and plot\n"
   ]
  },
  {
   "cell_type": "code",
   "execution_count": null,
   "metadata": {
    "ExecuteTime": {
     "end_time": "2019-06-22T17:18:37.872437Z",
     "start_time": "2019-06-22T17:18:35.554046Z"
    },
    "colab": {
     "base_uri": "https://localhost:8080/",
     "height": 561
    },
    "colab_type": "code",
    "id": "dTCTuygnUr0j",
    "outputId": "16389e80-c3eb-4312-9c39-e27edd6a36bb",
    "run_control": {
     "frozen": false,
     "read_only": false
    },
    "scrolled": true
   },
   "outputs": [],
   "source": [
    "# HELPER CELL, DO NOT MODIFY\n",
    "# load Image\n",
    "image = plt.imread(\"hw3_image_2.jpg\")/255.\n",
    "#plot image\n",
    "fig = plt.figure(figsize=(10,10))\n",
    "plt.imshow(image)"
   ]
  },
  {
   "cell_type": "code",
   "execution_count": null,
   "metadata": {
    "ExecuteTime": {
     "end_time": "2019-06-22T17:18:39.594607Z",
     "start_time": "2019-06-22T17:18:37.927119Z"
    },
    "colab": {
     "base_uri": "https://localhost:8080/",
     "height": 488
    },
    "colab_type": "code",
    "id": "ULd7_WqGUr0m",
    "outputId": "91da9771-ff7d-4184-9b46-80367cbc0f6a",
    "run_control": {
     "frozen": false,
     "read_only": false
    }
   },
   "outputs": [],
   "source": [
    "# HELPER CELL, DO NOT MODIFY\n",
    "def rgb2gray(rgb):   \n",
    "    return np.dot(rgb[...,:3], [0.299, 0.587, 0.114])\n",
    "\n",
    "fig = plt.figure(figsize=(10, 10))\n",
    "# plot several images\n",
    "plt.imshow(rgb2gray(image), cmap=plt.cm.bone)"
   ]
  },
  {
   "cell_type": "markdown",
   "metadata": {
    "colab_type": "text",
    "id": "xaIhkaKyTyJb",
    "run_control": {
     "frozen": false,
     "read_only": false
    }
   },
   "source": [
    "### 1.1 Image compression [20pts]  <span style=\"color:blue\">**[P]**</span>\n",
    "\n",
    "SVD is a dimensionality reduction technique that allows us to compress images by throwing away the least important information.  \n",
    "\n",
    "Higher singular values capture greater variance and thus capture greater information from the corresponding singular vector. To perform image compression, apply SVD on each matrix and get rid of the small singular values to compress the image. The loss of information through this process is negligible and the difference between the images can hardly be spotted. For example, the variance captured by the first component $$\\frac{\\sigma_1}{\\sum_{i=1}^n \\sigma_i}$$ where $\\sigma_i$ is the $i^{th}$ singular value. You need to finish the following functions to do SVD and then reconstruct the image by components. \n",
    "\n",
    "**Hint 1:** http://timbaumann.info/svd-image-compression-demo/ is an useful article on image compression."
   ]
  },
  {
   "cell_type": "code",
   "execution_count": null,
   "metadata": {
    "ExecuteTime": {
     "end_time": "2019-06-22T17:18:39.629743Z",
     "start_time": "2019-06-22T17:18:39.599162Z"
    },
    "colab": {},
    "colab_type": "code",
    "id": "h_XXstqJTpJf",
    "run_control": {
     "frozen": false,
     "read_only": false
    }
   },
   "outputs": [],
   "source": [
    "class ImgCompression(object):\n",
    "    def __init__(self):\n",
    "        pass\n",
    "\n",
    "    def svd(self, X): # [5pts]\n",
    "        \"\"\"\n",
    "        Do SVD. You could use numpy SVD.\n",
    "        Your function should be able to handle black and white\n",
    "        images (N*D arrays) as well as color images (N*D*3 arrays)\n",
    "        In the image compression, we assume that each colum of the image is a feature. Image is the matrix X.\n",
    "        Args:\n",
    "            X: N * D array corresponding to an image (N * D * 3 if color image)\n",
    "        Return:\n",
    "            U: N * N for black and white images / N * N * 3 for color images\n",
    "            S: min(N, D) * 1 for black and white images / min(N, D) * 3 for color images\n",
    "            V: D * D for black and white images / D * D * 3 for color images\n",
    "        \"\"\"\n",
    "        # raise NotImplementedError\n",
    "        if len(X.shape) == 2:\n",
    "            U, S, V = np.linalg.svd(X)\n",
    "            return U, S, V\n",
    "        else:\n",
    "            U_r, S_r, V_r = np.linalg.svd(X[:, :, 0])\n",
    "            U_g, S_g, V_g = np.linalg.svd(X[:, :, 1])\n",
    "            U_b, S_b, V_b = np.linalg.svd(X[:, :, 2])\n",
    "            U = np.dstack((U_r, U_g, U_b))\n",
    "            S = np.vstack((S_r, S_g, S_b))\n",
    "            S = S.transpose()\n",
    "            V = np.dstack((V_r, V_g, V_b))\n",
    "            return U, S, V\n",
    "\n",
    "\n",
    "    def rebuild_svd(self, U, S, V, k): # [5pts]\n",
    "        \"\"\"\n",
    "        Rebuild SVD by k componments.\n",
    "        Args:\n",
    "            U: N*N (*3 for color images)\n",
    "            S: min(N, D)*1 (*3 for color images)\n",
    "            V: D*D (*3 for color images)\n",
    "            k: int corresponding to number of components\n",
    "        Return:\n",
    "            Xrebuild: N*D array of reconstructed image (N*D*3 if color image)\n",
    "\n",
    "        Hint: numpy.matmul may be helpful for reconstructing color images\n",
    "        \"\"\"\n",
    "        # raise NotImplementedError\n",
    "        if len(U.shape) == 2:\n",
    "            S_n = np.diag(S)[:k, :k]\n",
    "            U_n = U[:, :k]\n",
    "            V_n = V[:k, :]\n",
    "            U_S = np.matmul(U_n, S_n)\n",
    "            Xrebuild = np.matmul(U_S, V_n)\n",
    "            return Xrebuild\n",
    "        else:\n",
    "            Xrebuild_r = ImgCompression.rebuild_svd(self, U[:, :, 0], S[:, 0], V[:, :, 0], k)\n",
    "            Xrebuild_g = ImgCompression.rebuild_svd(self, U[:, :, 1], S[:, 1], V[:, :, 1], k)\n",
    "            Xrebuild_b = ImgCompression.rebuild_svd(self, U[:, :, 2], S[:, 2], V[:, :, 2], k)\n",
    "            Xrebuild = np.dstack((Xrebuild_r, Xrebuild_g, Xrebuild_b))\n",
    "            return Xrebuild\n",
    "\n",
    "\n",
    "    def compression_ratio(self, X, k): # [5pts]\n",
    "        \"\"\"\n",
    "        Compute compression of an image: (num stored values in compressed)/(num stored values in original)\n",
    "        Args:\n",
    "            X: N * D array corresponding to an image (N * D * 3 if color image)\n",
    "            k: int corresponding to number of components\n",
    "        Return:\n",
    "            compression_ratio: float of proportion of storage used by compressed image\n",
    "        \"\"\"\n",
    "        # raise NotImplementedError\n",
    "        original_size = X.shape[0] * X.shape[1]\n",
    "        compressed_size = k * (1 + X.shape[0] + X.shape[1])\n",
    "        compressed_ratio = compressed_size / original_size\n",
    "        return compressed_ratio\n",
    "\n",
    "\n",
    "    def recovered_variance_proportion(self, S, k): # [5pts]\n",
    "        \"\"\"\n",
    "        Compute the proportion of the variance in the original matrix recovered by a rank-k approximation\n",
    "\n",
    "        Args:\n",
    "           S: min(N, D)*1 (*3 for color images) of singular values for the image\n",
    "           k: int, rank of approximation\n",
    "        Return:\n",
    "           recovered_var: float (array of 3 floats for color image) corresponding to proportion of recovered variance\n",
    "        \"\"\"\n",
    "        # raise NotImplementedError\n",
    "        if len(S.shape) == 1:\n",
    "            original_var = np.sum(np.square(S))\n",
    "            S_k = S[:k]\n",
    "            compressed_var = np.sum(np.square(S_k))\n",
    "            recovered_var = compressed_var / original_var\n",
    "            return recovered_var\n",
    "        else:\n",
    "            r = ImgCompression.recovered_variance_proportion(self, S[:, 0], k)\n",
    "            g = ImgCompression.recovered_variance_proportion(self, S[:, 1], k)\n",
    "            b = ImgCompression.recovered_variance_proportion(self, S[:, 2], k)\n",
    "            recovered_var = np.array([r, g, b])\n",
    "            return recovered_var"
   ]
  },
  {
   "cell_type": "markdown",
   "metadata": {
    "colab_type": "text",
    "id": "8LRdI_NdUr0q",
    "run_control": {
     "frozen": false,
     "read_only": false
    }
   },
   "source": [
    "### 1.2 Black and white [5 pts] <span style=\"color:green\">**[W]**</span>\n",
    "Use your implementation to generate a set of images compressed to different degrees. Include the images in your non-programming submission to the assignment."
   ]
  },
  {
   "cell_type": "code",
   "execution_count": null,
   "metadata": {
    "ExecuteTime": {
     "end_time": "2019-06-22T17:18:45.705973Z",
     "start_time": "2019-06-22T17:18:40.298098Z"
    },
    "colab": {
     "base_uri": "https://localhost:8080/",
     "height": 985
    },
    "colab_type": "code",
    "id": "broYG5UuTtey",
    "outputId": "a91852f9-eeed-4367-969a-b28d36bdcd2f",
    "run_control": {
     "frozen": false,
     "read_only": false
    },
    "scrolled": false
   },
   "outputs": [],
   "source": [
    "# HELPER CELL, DO NOT MODIFY\n",
    "imcompression = ImgCompression()\n",
    "bw_image = rgb2gray(image)\n",
    "U, S, V = imcompression.svd(bw_image)\n",
    "component_num = [1,2,5,10,20,40,80,160,256]\n",
    "\n",
    "fig = plt.figure(figsize=(18, 18))\n",
    "\n",
    "# plot several images\n",
    "i=0\n",
    "for k in component_num:\n",
    "    img_rebuild = imcompression.rebuild_svd(U, S, V, k)\n",
    "    c = np.around(imcompression.compression_ratio(bw_image, k), 4)\n",
    "    r = np.around(imcompression.recovered_variance_proportion(S, k), 3)\n",
    "    ax = fig.add_subplot(3, 3, i + 1, xticks=[], yticks=[])\n",
    "    ax.imshow(img_rebuild, cmap=plt.cm.bone)\n",
    "    ax.set_title(f\"{k} Components\")\n",
    "    ax.set_xlabel(f\"Compression: {c},\\nRecovered Variance: {r}\")\n",
    "    i = i+1"
   ]
  },
  {
   "cell_type": "markdown",
   "metadata": {},
   "source": [
    "### 1.3 Color image [5 pts] <span style=\"color:green\">**[W]**</span>\n",
    "Use your implementation to generate a set of images compressed to different degrees. Include the images in your non-programming submission to the assignment.\n",
    "\n",
    "<b>Note:</b> You might get warning \"Clipping input data to the valid range for imshow with RGB data ([0..1] for floats or [0..255] for integers).\" This warning is acceptable since while rebuilding some of the pixels may go above 1.0. You should see similar image to original even with such clipping."
   ]
  },
  {
   "cell_type": "code",
   "execution_count": null,
   "metadata": {},
   "outputs": [],
   "source": [
    "# HELPER CELL, DO NOT MODIFY\n",
    "imcompression = ImgCompression()\n",
    "U, S, V = imcompression.svd(image)\n",
    "\n",
    "# component_num = [1,2,5,10,20,40,80,160,256]\n",
    "component_num = [1,2,5,10,20,40,80,160,256]\n",
    "\n",
    "fig = plt.figure(figsize=(18, 18))\n",
    "\n",
    "# plot several images\n",
    "i=0\n",
    "for k in component_num:\n",
    "    img_rebuild = imcompression.rebuild_svd(U, S, V, k)\n",
    "    c = np.around(imcompression.compression_ratio(image, k), 4)\n",
    "    r = np.around(imcompression.recovered_variance_proportion(S, k), 3)\n",
    "    ax = fig.add_subplot(3, 3, i + 1, xticks=[], yticks=[])\n",
    "    ax.imshow(img_rebuild)\n",
    "    ax.set_title(f\"{k} Components\")\n",
    "    ax.set_xlabel(f\"Compression: {np.around(c,4)},\\nRecovered Variance:  R: {r[0]}  G: {r[1]}  B: {r[2]}\")\n",
    "    i = i+1"
   ]
  },
  {
   "cell_type": "markdown",
   "metadata": {
    "colab_type": "text",
    "id": "rfzZUT1sHy6h"
   },
   "source": [
    "## 2 Understanding PCA [15 pts] <span style=\"color:blue\">**[P]**</span> | <span style=\"color:green\">**[W]**</span>"
   ]
  },
  {
   "cell_type": "markdown",
   "metadata": {
    "colab_type": "text",
    "id": "kEPFAlz7HzMY"
   },
   "source": [
    "### 2.1 Implementation [10 pts] <span style=\"color:blue\">**[P]**</span>\n",
    "\n",
    "[Principal Component Analysis](https://en.wikipedia.org/wiki/Principal_component_analysis) (PCA) is another dimensionality reduction technique that reduces dimensions by eliminating small variance eigenvalues and their vectors. With PCA, we center the data first by subtracting the mean. Each singular value tells us how much of the variance of a matrix (e.g. image) is captured in each component. In this problem, we will investigate how PCA can be used to improve features for regression and classification tasks and how the data itself affects the behavior of PCA.  \n",
    "\n",
    " \n",
    "\n",
    "Implement PCA in the below cell. \n",
    "\n",
    "Assume a dataset is composed of N datapoints, each of which has D features with D < N. The dimension of our data would be D. It is possible, however, that many of these dimensions contain redundant information. Each feature explains part of the variance in our dataset. Some features may explain more variance than others. \n",
    "\n",
    "In the following cell complete the PCA class by completing functions fit, transform and transform_rv. "
   ]
  },
  {
   "cell_type": "code",
   "execution_count": null,
   "metadata": {
    "colab": {},
    "colab_type": "code",
    "id": "4DSSKufTH3G9"
   },
   "outputs": [],
   "source": [
    "class PCA(object):\n",
    "\n",
    "    def __init__(self):\n",
    "        self.U = None\n",
    "        self.S = None\n",
    "        self.V = None\n",
    "\n",
    "    def fit(self, X): # 5 points\n",
    "        \"\"\"\n",
    "        Decompose dataset into principal components.\n",
    "        You may use your SVD function from the previous part in your implementation or numpy.linalg.svd function.\n",
    "\n",
    "        Don't return anything. You can directly set self.U, self.S and self.V declared in __init__ with\n",
    "        corresponding values from PCA.\n",
    "\n",
    "        Args:\n",
    "            X: N*D array corresponding to a dataset\n",
    "        Return:\n",
    "            None\n",
    "        \"\"\"\n",
    "        # raise NotImplementedError\n",
    "        m = np.mean(X, axis=0)\n",
    "        x = X - m\n",
    "        self.U, self.S, self.V = np.linalg.svd(x, full_matrices=False)\n",
    "\n",
    "\n",
    "    def transform(self, data, K=2): # 2 pts\n",
    "        \"\"\"\n",
    "        Transform data to reduce the number of features such that final data has given number of columns\n",
    "\n",
    "        Utilize self.U, self.S and self.V that were set in fit() method.\n",
    "\n",
    "        Args:\n",
    "            data: N*D array corresponding to a dataset\n",
    "            K: Int value for number of columns to be kept\n",
    "        Return:\n",
    "            X_new: N*K array corresponding to data obtained by applying PCA on data\n",
    "        \"\"\"\n",
    "        # raise NotImplementedError\n",
    "        V = self.V.transpose()\n",
    "        X_new = np.dot(data, V)\n",
    "        return X_new[:, :K]\n",
    "\n",
    "    def transform_rv(self, data, retained_variance=0.99): # 3 pts\n",
    "        \"\"\"\n",
    "        Transform data to reduce the number of features such that a given variance is retained\n",
    "\n",
    "        Utilize self.U, self.S and self.V that were set in fit() method.\n",
    "\n",
    "        Args:\n",
    "            data: N*D array corresponding to a dataset\n",
    "            retained_variance: Float value for amount of variance to be retained\n",
    "        Return:\n",
    "            X_new: N*K array corresponding to data obtained by applying PCA on data\n",
    "        \"\"\"\n",
    "        # raise NotImplementedError\n",
    "        S = np.square(self.S)\n",
    "        cum_variance = np.cumsum(S) / np.sum(S)\n",
    "        i = 0\n",
    "        K = 0\n",
    "        bool = True\n",
    "        while bool:\n",
    "            if cum_variance[i] >= retained_variance:\n",
    "                bool = False\n",
    "                K = i\n",
    "            i += 1\n",
    "        V = self.V.transpose()\n",
    "        X_new = np.dot(data, V)\n",
    "        return X_new[:, :K+1]\n",
    "\n",
    "\n",
    "    def get_V(self):\n",
    "        \"\"\" Getter function for value of V \"\"\"\n",
    "        \n",
    "        return self.V"
   ]
  },
  {
   "cell_type": "markdown",
   "metadata": {},
   "source": [
    "### 2.2 Visualize [5 pts] <span style=\"color:green\">**[W]**</span>\n",
    "\n",
    "PCA is used to transform multivariate data tables into smaller sets so as to observe the hidden trends and variations in the data. Here you will visualize two datasets (iris and wine) using PCA. Use the above implementation of PCA and reduce the datasets such that they contain only two features. Make 2-D scatter plots of the data points using these features. Make sure to differentiate the data points according to their true labels. The datasets have already been loaded for you. In addition, return the retained variance obtained from the reduced features."
   ]
  },
  {
   "cell_type": "code",
   "execution_count": null,
   "metadata": {},
   "outputs": [],
   "source": [
    "def visualize(X,y): # 5 pts\n",
    "    \"\"\"\n",
    "    Args:\n",
    "        xtrain: NxD numpy array, where N is number of instances and D is the dimensionality of each instance\n",
    "        ytrain: numpy array (N,), the true labels\n",
    "  \n",
    "    Return:\n",
    "        None\n",
    "    \"\"\"\n",
    "    # raise NotImplementedError\n",
    "    pca = PCA()\n",
    "    pca.fit(X)\n",
    "    new_X = pca.transform(X)\n",
    "\n",
    "    # centering the data before plotting\n",
    "    m = np.mean(new_X, axis=0)\n",
    "    new_X = new_X - m\n",
    "\n",
    "    plt.scatter(new_X[:, 0], new_X[:, 1], c=y)\n",
    "    plt.title(\"PCA: 2 Components\")\n",
    "    plt.xlabel(\"PC1\")\n",
    "    plt.ylabel(\"PC2\")\n",
    "    plt.show()"
   ]
  },
  {
   "cell_type": "code",
   "execution_count": null,
   "metadata": {
    "colab": {},
    "colab_type": "code",
    "id": "30eydfzLH-g0"
   },
   "outputs": [],
   "source": [
    "# HELPER CELL, DO NOT MODIFY\n",
    "#Use PCA for visualization of iris and wine data\n",
    "iris_data = load_iris(return_X_y=True)\n",
    "\n",
    "X = iris_data[0]\n",
    "y = iris_data[1]\n",
    "visualize(X, y)"
   ]
  },
  {
   "cell_type": "code",
   "execution_count": null,
   "metadata": {},
   "outputs": [],
   "source": [
    "# HELPER CELL, DO NOT MODIFY\n",
    "wine_data = load_wine(return_X_y=True)\n",
    "\n",
    "X = wine_data[0]\n",
    "y = wine_data[1]\n",
    "\n",
    "visualize(X, y)"
   ]
  },
  {
   "cell_type": "markdown",
   "metadata": {
    "colab_type": "text",
    "id": "mqt4ISUDIAVt"
   },
   "source": [
    "Now you will use PCA on an actual real-world dataset. We will use your implementation of PCA function to reduce the dataset with 99% retained variance and use it to obtain the reduced features. On the reduced dataset, we will use logistic or linear regression and compare results between PCA and non-PCA datasets. Run the following cells to see how PCA works on regression and classification tasks."
   ]
  },
  {
   "cell_type": "code",
   "execution_count": null,
   "metadata": {
    "colab": {},
    "colab_type": "code",
    "id": "urfrl0YGLH0C"
   },
   "outputs": [],
   "source": [
    "# HELPER CELL, DO NOT MODIFY\n",
    "#load the dataset \n",
    "iris = load_iris()\n",
    "\n",
    "X = iris.data\n",
    "y = iris.target\n",
    "\n",
    "print(\"data shape before PCA \",X.shape)\n",
    "\n",
    "pca = PCA()\n",
    "pca.fit(X)\n",
    "\n",
    "X_pca = pca.transform_rv(X)\n",
    "\n",
    "print(\"data shape with PCA \",X_pca.shape)"
   ]
  },
  {
   "cell_type": "code",
   "execution_count": null,
   "metadata": {},
   "outputs": [],
   "source": [
    "# HELPER CELL, DO NOT MODIFY\n",
    "# Train, test splits\n",
    "X_train, X_test, y_train, y_test = train_test_split(X, y, test_size=.3, \n",
    "                                                    stratify=y, \n",
    "                                                    random_state=42)\n",
    "\n",
    "# Use logistic regression to predict classes for test set\n",
    "clf = LogisticRegression()\n",
    "clf.fit(X_train, y_train)\n",
    "preds = clf.predict_proba(X_test)\n",
    "print('Accuracy: {:.5f}'.format(accuracy_score(y_test, \n",
    "                                                preds.argmax(axis=1))))"
   ]
  },
  {
   "cell_type": "code",
   "execution_count": null,
   "metadata": {
    "colab": {},
    "colab_type": "code",
    "id": "hgqaj5t2LKQW"
   },
   "outputs": [],
   "source": [
    "# HELPER CELL, DO NOT MODIFY\n",
    "# Train, test splits\n",
    "X_train, X_test, y_train, y_test = train_test_split(X_pca, y, test_size=.3, \n",
    "                                                    stratify=y, \n",
    "                                                    random_state=42)\n",
    "\n",
    "# Use logistic regression to predict classes for test set\n",
    "clf = LogisticRegression()\n",
    "clf.fit(X_train, y_train)\n",
    "preds = clf.predict_proba(X_test)\n",
    "print('Accuracy: {:.5f}'.format(accuracy_score(y_test, \n",
    "                                                preds.argmax(axis=1))))"
   ]
  },
  {
   "cell_type": "code",
   "execution_count": null,
   "metadata": {
    "colab": {},
    "colab_type": "code",
    "id": "mZPUKNJ8LGCB"
   },
   "outputs": [],
   "source": [
    "# HELPER CELL, DO NOT MODIFY\n",
    "def apply_regression(X_train, y_train, X_test):\n",
    "    ridge = Ridge()\n",
    "    weight = ridge.fit(X_train, y_train)\n",
    "    y_pred = ridge.predict(X_test)\n",
    "    \n",
    "    return y_pred"
   ]
  },
  {
   "cell_type": "code",
   "execution_count": null,
   "metadata": {},
   "outputs": [],
   "source": [
    "# HELPER CELL, DO NOT MODIFY\n",
    "#load the dataset \n",
    "diabetes = load_diabetes()\n",
    "X = diabetes.data\n",
    "y = diabetes.target\n",
    "\n",
    "print(X.shape, y.shape)\n",
    "\n",
    "pca = PCA()\n",
    "pca.fit(X)\n",
    "\n",
    "X_pca = pca.transform_rv(X)\n",
    "print(\"data shape with PCA \",X_pca.shape)"
   ]
  },
  {
   "cell_type": "code",
   "execution_count": null,
   "metadata": {},
   "outputs": [],
   "source": [
    "# HELPER CELL, DO NOT MODIFY\n",
    "# Train, test splits\n",
    "X_train, X_test, y_train, y_test = train_test_split(X, y, test_size=.3, random_state=42)\n",
    "\n",
    "#Ridge regression without PCA\n",
    "y_pred = apply_regression(X_train, y_train, X_test)\n",
    "\n",
    "# calculate RMSE \n",
    "rmse_score = np.sqrt(mean_squared_error(y_pred, y_test))\n",
    "print(\"rmse score without PCA\",rmse_score)"
   ]
  },
  {
   "cell_type": "code",
   "execution_count": null,
   "metadata": {},
   "outputs": [],
   "source": [
    "# HELPER CELL, DO NOT MODIFY\n",
    "#Ridge regression with PCA\n",
    "X_train, X_test, y_train, y_test = train_test_split(X_pca, y, test_size=.3, random_state=42)\n",
    "\n",
    "#use Ridge Regression for getting predicted labels\n",
    "y_pred = apply_regression(X_train,y_train,X_test)\n",
    "\n",
    "#calculate RMSE \n",
    "rmse_score = np.sqrt(mean_squared_error(y_pred, y_test))\n",
    "print(\"rmse score with PCA\",rmse_score)"
   ]
  },
  {
   "cell_type": "markdown",
   "metadata": {},
   "source": [
    "For both the tasks above we see an improvement in performance by reducing our dataset with PCA.\n",
    "\n",
    "Feel free to add other datasets in cell below and play around with what kind of improvement you get with using PCA. There are no points for playing around with other datasets. "
   ]
  },
  {
   "cell_type": "code",
   "execution_count": null,
   "metadata": {},
   "outputs": [],
   "source": [
    "######## YOUR CODE BELOW ########\n",
    "\n",
    "#################################"
   ]
  },
  {
   "cell_type": "markdown",
   "metadata": {
    "colab_type": "text",
    "id": "nWExwLuZcaYI"
   },
   "source": [
    "## 3 Polynomial regression and regularization [55 pts + 20 pts bonus for CS 4641] <span style=\"color:green\">**[W]**</span> | <span style=\"color:blue\">**[P]**</span>"
   ]
  },
  {
   "cell_type": "markdown",
   "metadata": {
    "colab_type": "text",
    "id": "8Em_UwQmelrt"
   },
   "source": [
    "### 3.1 Regression and regularization implementations [30 pts + 20 pts bonus for CS 4641] <span style=\"color:blue\">**[P]**</span>\n",
    "We have three methods to fit linear and ridge regression models: 1) close form; 2) gradient descent (GD); 3) Stochastic gradient descent (SGD). For undergraduate students, you are required to implement the closed form for linear regression and for ridge regression, the others 4 methods are bonus parts. For graduate students, you are required to implement all of them. We use the term weight in the following code. Weights and parameters ($\\theta$) have the same meaning here. We used parameters ($\\theta$) in the lecture slides."
   ]
  },
  {
   "cell_type": "code",
   "execution_count": null,
   "metadata": {
    "colab": {},
    "colab_type": "code",
    "id": "9p68Xgn0fA8W"
   },
   "outputs": [],
   "source": [
    "class Regression(object):\n",
    "    \n",
    "    def __init__(self):\n",
    "        pass\n",
    "    \n",
    "    def rmse(self, pred, label): # [5pts]\n",
    "        '''\n",
    "        This is the root mean square error.\n",
    "        Args:\n",
    "            pred: numpy array of length N * 1, the prediction of labels\n",
    "            label: numpy array of length N * 1, the ground truth of labels\n",
    "        Return:\n",
    "            a float value\n",
    "        '''\n",
    "        # raise NotImplementedError\n",
    "        dist = label - pred\n",
    "        square_dist = np.square(dist)\n",
    "        mse = np.mean(square_dist)\n",
    "        rmse = np.sqrt(mse)\n",
    "        return rmse\n",
    "\n",
    "    def construct_polynomial_feats(self, x, degree): # [5pts]\n",
    "        \"\"\"\n",
    "        Args:\n",
    "            x: numpy array of length N, the 1-D observations\n",
    "            degree: the max polynomial degree\n",
    "        Return:\n",
    "            feat: numpy array of shape Nx(degree+1), remember to include \n",
    "            the bias term. feat is in the format of:\n",
    "            [[1.0, x1, x1^2, x1^3, ....,],\n",
    "             [1.0, x2, x2^2, x2^3, ....,],\n",
    "             ......\n",
    "            ]\n",
    "        \"\"\"\n",
    "        # raise NotImplementedError\n",
    "        column = np.reshape(x, (x.shape[0], 1))\n",
    "        X = np.tile(column, degree + 1)\n",
    "        powers = np.array(range(degree + 1))\n",
    "        feat = np.power(X, powers)\n",
    "        return feat\n",
    "\n",
    "\n",
    "    def predict(self, xtest, weight): # [5pts]\n",
    "        \"\"\"\n",
    "        Args:\n",
    "            xtest: NxD numpy array, where N is number \n",
    "                   of instances and D is the dimensionality of each \n",
    "                   instance\n",
    "            weight: Dx1 numpy array, the weights of linear regression model\n",
    "        Return:\n",
    "            prediction: Nx1 numpy array, the predicted labels\n",
    "        \"\"\"\n",
    "        # raise NotImplementedError\n",
    "        prediction = np.dot(xtest, weight)\n",
    "        return prediction\n",
    "\n",
    "        \n",
    "    # =================\n",
    "    # LINEAR REGRESSION\n",
    "    # Hints: in the fit function, use close form solution of the linear regression to get weights. \n",
    "    # For inverse, you can use numpy linear algebra function  \n",
    "    # For the predict, you need to use linear combination of data points and their weights (y = theta0*1+theta1*X1+...)\n",
    "\n",
    "    def linear_fit_closed(self, xtrain, ytrain): # [5pts]\n",
    "        \"\"\"\n",
    "        Args:\n",
    "            xtrain: N x D numpy array, where N is number of instances and D is the dimensionality of each instance\n",
    "            ytrain: N x 1 numpy array, the true labels\n",
    "        Return:\n",
    "            weight: Dx1 numpy array, the weights of linear regression model\n",
    "        \"\"\"\n",
    "        # raise NotImplementedError\n",
    "        pseudo_inverse = np.linalg.pinv(xtrain)\n",
    "        weight = np.dot(pseudo_inverse, ytrain)\n",
    "        return weight\n",
    "\n",
    "\n",
    "    def linear_fit_GD(self, xtrain, ytrain, epochs=5, learning_rate=0.001): # [5pts]\n",
    "        \"\"\"\n",
    "        Args:\n",
    "            xtrain: NxD numpy array, where N is number \n",
    "                    of instances and D is the dimensionality of each \n",
    "                    instance\n",
    "            ytrain: Nx1 numpy array, the true labels\n",
    "        Return:\n",
    "            weight: Dx1 numpy array, the weights of linear regression model\n",
    "        \"\"\"\n",
    "        \n",
    "        raise NotImplementedError\n",
    "\n",
    "    def linear_fit_SGD(self, xtrain, ytrain, epochs=100, learning_rate=0.001): # [5pts]\n",
    "        \"\"\"\n",
    "        Args:\n",
    "            xtrain: NxD numpy array, where N is number \n",
    "                    of instances and D is the dimensionality of each \n",
    "                    instance\n",
    "            ytrain: Nx1 numpy array, the true labels\n",
    "        Return:\n",
    "            weight: Dx1 numpy array, the weights of linear regression model\n",
    "        \"\"\"\n",
    "        \n",
    "        raise NotImplementedError\n",
    "        \n",
    "    # =================\n",
    "    # RIDGE REGRESSION\n",
    "        \n",
    "    def ridge_fit_closed(self, xtrain, ytrain, c_lambda): # [5pts]\n",
    "        \"\"\"\n",
    "        Args:\n",
    "            xtrain: N x D numpy array, where N is number of instances and D is the dimensionality of each instance\n",
    "            ytrain: N x 1 numpy array, the true labels\n",
    "            c_lambda: floating number\n",
    "        Return:\n",
    "            weight: Dx1 numpy array, the weights of ridge regression model\n",
    "        \"\"\"\n",
    "        # raise NotImplementedError\n",
    "        weight = Regression.linear_fit_closed(self, xtrain * c_lambda, ytrain)\n",
    "        return weight\n",
    "\n",
    "        \n",
    "    def ridge_fit_GD(self, xtrain, ytrain, c_lambda, epochs=500, learning_rate=1e-7): # [5pts]\n",
    "        \"\"\"\n",
    "        Args:\n",
    "            xtrain: NxD numpy array, where N is number \n",
    "                    of instances and D is the dimensionality of each \n",
    "                    instance\n",
    "            ytrain: Nx1 numpy array, the true labels\n",
    "            c_lambda: floating number\n",
    "        Return:\n",
    "            weight: Dx1 numpy array, the weights of linear regression model\n",
    "        \"\"\"\n",
    "        \n",
    "        raise NotImplementedError\n",
    "\n",
    "    def ridge_fit_SGD(self, xtrain, ytrain, c_lambda, epochs=100, learning_rate=0.001): # [5pts]\n",
    "        \"\"\"\n",
    "        Args:\n",
    "            xtrain: NxD numpy array, where N is number \n",
    "                    of instances and D is the dimensionality of each \n",
    "                    instance\n",
    "            ytrain: Nx1 numpy array, the true labels\n",
    "        Return:\n",
    "            weight: Dx1 numpy array, the weights of linear regression model\n",
    "        \"\"\"\n",
    "        \n",
    "        raise NotImplementedError\n",
    "\n",
    "    def ridge_cross_validation(self, X, y, kfold=10, c_lambda=100): # [5 pts]\n",
    "        \"\"\"\n",
    "        Args: \n",
    "            X : NxD numpy array, where N is the number of instances and D is the dimensionality of each instance\n",
    "            y : Nx1 numpy array, true labels\n",
    "            kfold: Number of folds you should take while implementing cross validation.\n",
    "            c_lambda: Value of regularization constant\n",
    "        Returns:\n",
    "            meanErrors: Float average rmse error\n",
    "        Hint: np.concatenate might be helpful.\n",
    "        Look at 3.5 to see how this function is being used.\n",
    "        # For cross validation, use 10-fold method and only use it for your training data (you already have the train_indices to get training data).\n",
    "        # For the training data, split them in 10 folds which means that use 10 percent of training data for test and 90 percent for training.\n",
    "        \"\"\"\n",
    "        # raise NotImplementedError\n",
    "        rmseArr = []\n",
    "        N = X.shape[0]\n",
    "        subset_size = int(N / kfold)\n",
    "        j = 0\n",
    "        for i in range(kfold):\n",
    "            if j + subset_size >= N:\n",
    "                x = X[j:, :]\n",
    "            else:\n",
    "                x = X[j:j + subset_size - 1, :]\n",
    "            weight = Regression.ridge_fit_closed(self, X, y, c_lambda)\n",
    "            pred = np.dot(X, weight)\n",
    "            rmse = Regression.rmse(self, pred, y)\n",
    "            rmseArr.append(rmse)\n",
    "            j = j + subset_size\n",
    "        meanErrors = np.mean(rmseArr)\n",
    "        return meanErrors"
   ]
  },
  {
   "cell_type": "markdown",
   "metadata": {
    "colab_type": "text",
    "id": "dBStSX_8f8mE"
   },
   "source": [
    "### 3.2 About RMSE [3 pts] <span style=\"color:green\">**[W]**</span>\n",
    "Do you know whether this RMSE is good or not? If you don't know, we could normalize our labels between 0 and 1. After normalization, what does it mean when RMSE = 1? \n",
    "\n",
    "**Hint**: think of the way that you can enforce your RMSE = 1. Note that you can not change the actual labels to make RMSE = 1.\n",
    "\n",
    "Without normalization, it is hard to determine if your RMSE is good or bad. This is due to the fact that different datasets can have different ranges of values.\n",
    "For example, if we run our regression model with a dataset that has a range from 0 to 10,000, then a RMSE of 70 is relatively small and therefore good. But, if\n",
    "instead we run the model with a dataset with range from 0 to 100, getting the same RMSE value of 70 would be terrible. This difference in scale makes it difficult\n",
    "to evaluate a model using RMSE and different datasets. We can solve this issue by normalizing our data labels so the range becomes from 0 to 1, therefore allowing\n",
    "us to compare the resulting RMSE values of different datasets.\n",
    "\n",
    "After normalization, getting a RMSE value of 1 means that your regression model's predictions are all off by exactly 1, which is a terrible result since the range\n",
    "is now from 0 to 1, meaning that all predictions are wrong by exactly the maximum value they can be."
   ]
  },
  {
   "cell_type": "markdown",
   "metadata": {
    "colab_type": "text",
    "id": "CMIH8qA-o4Dx"
   },
   "source": [
    "### 3.3 Testing: general functions and linear regression [5 pts] <span style=\"color:green\">**[W]**</span>\n",
    "\n",
    "Let's first construct a dataset for polynomial regression.\n",
    "\n",
    "In this case, we construct the polynomial features up to degree 5..\n",
    "Each data sample consists of two features $[a,b]$. We compute the polynomial features of both a and b in order to yield the vectors $[1,a,a^2,a^3, ... a^{degree}]$ and $[1,b,b^2,b^3, ... , b^{degree}]$. We train our model with the cartesian product of these polynomial features. The cartesian product generates a new feature vector consisting of all polynomial combinations of the features with degree less than or equal to the specified degree.\n",
    "\n",
    "For example, if degree = 2, we will have the polynomial features $[1,a,a^2]$ and $[1,b,b^2]$ for the datapoint $[a,b]$. The cartesian product of these two vectors will be $[1,a,b,ab,a^2,b^2]$. We do not generate $a^3$ and $b^3$ since their degree is greater than 2 (specified degree)."
   ]
  },
  {
   "cell_type": "code",
   "execution_count": 152,
   "metadata": {},
   "outputs": [
    {
     "name": "stdout",
     "output_type": "stream",
     "text": [
      "(1000, 27) (1000, 1)\n"
     ]
    }
   ],
   "source": [
    "#helper, do not need to change\n",
    "POLY_DEGREE = 5\n",
    "NUM_OBS = 1000\n",
    "\n",
    "rng = np.random.RandomState(seed=4)\n",
    "\n",
    "true_weight = -rng.rand((POLY_DEGREE)**2+2, 1)\n",
    "true_weight[2:, :] = 0\n",
    "x_all1 = np.linspace(-5, 5, NUM_OBS)\n",
    "x_all2 = np.linspace(-3, 3, NUM_OBS)\n",
    "x_all = np.stack((x_all1,x_all2), axis=1)\n",
    "\n",
    "reg = Regression()\n",
    "x_all_feat1 = reg.construct_polynomial_feats(x_all[:,0], POLY_DEGREE)\n",
    "x_all_feat2 = reg.construct_polynomial_feats(x_all[:,1], POLY_DEGREE)\n",
    "\n",
    "x_cart_flat = []\n",
    "for i in range(x_all_feat1.shape[0]):\n",
    "    x1 = x_all_feat1[i]\n",
    "    x2 = x_all_feat2[i]\n",
    "    x1_end = x1[-1]\n",
    "    x2_end = x2[-1]\n",
    "    x1 = x1[:-1]\n",
    "    x2 = x2[:-1]\n",
    "    x3 = np.asarray([[m*n for m in x1] for n in x2])\n",
    "\n",
    "    x3_flat = np.reshape(x3, (x3.shape[0]**2))\n",
    "    x3_flat = list(x3_flat)\n",
    "    x3_flat.append(x1_end)\n",
    "    x3_flat.append(x2_end)\n",
    "    x3_flat = np.asarray(x3_flat)\n",
    "    x_cart_flat.append(x3_flat)\n",
    "    \n",
    "x_cart_flat = np.asarray(x_cart_flat)\n",
    "x_all_feat = np.copy(x_cart_flat)\n",
    "\n",
    "y_all = np.dot(x_cart_flat, true_weight) + rng.randn(x_all_feat.shape[0], 1) # in the second term, we add noise to data\n",
    "print(x_all_feat.shape, y_all.shape)\n",
    "\n",
    "# Note that here we try to produce y_all as our training data\n",
    "#plot_curve(x_all, y_all) # Data with noise that we are going to predict\n",
    "#plot_curve(x_all, np.dot(x_cart_flat, true_weight), curve_type='-', color='r', lw=4) # the groundtruth information\n",
    "\n",
    "indices = rng.permutation(NUM_OBS)"
   ]
  },
  {
   "cell_type": "code",
   "execution_count": 153,
   "metadata": {},
   "outputs": [
    {
     "name": "stdout",
     "output_type": "stream",
     "text": [
      "(1000,) (1000,) (1000,)\n"
     ]
    },
    {
     "data": {
      "text/plain": "<mpl_toolkits.mplot3d.art3d.Path3DCollection at 0x7fc9e48f1310>"
     },
     "execution_count": 153,
     "metadata": {},
     "output_type": "execute_result"
    },
    {
     "data": {
      "text/plain": "<Figure size 432x288 with 1 Axes>",
      "image/png": "[encoded data removed]"
     },
     "metadata": {
      "needs_background": "light"
     },
     "output_type": "display_data"
    }
   ],
   "source": [
    "# HELPER CELL, DO NOT MODIFY\n",
    "fig = plt.figure()\n",
    "ax = fig.add_subplot(111, projection='3d')\n",
    "\n",
    "p = np.reshape(np.dot(x_cart_flat, true_weight), (1000,))\n",
    "print(x_all[:,0].shape, x_all[:,1].shape,p.shape)\n",
    "ax.plot(x_all[:,0], x_all[:,1], p, c=\"red\",linewidth=4)\n",
    "ax.scatter(x_all[:,0], x_all[:,1], y_all,s=4)"
   ]
  },
  {
   "cell_type": "markdown",
   "metadata": {
    "colab_type": "text",
    "id": "nM8mZQTjo_6G"
   },
   "source": [
    "In the figure above, the red curve is the true fuction we want to learn, while the blue dots are the noisy observations. The observations are generated by  $Y=X\\theta+σ$ , where  σ∼N(0,1)  are i.i.d. generated noise.\n",
    "\n",
    "Now let's split the data into two parts, namely the training set and test set. The red dots are for training, while the blue dots are for testing."
   ]
  },
  {
   "cell_type": "code",
   "execution_count": 154,
   "metadata": {},
   "outputs": [
    {
     "name": "stdout",
     "output_type": "stream",
     "text": [
      "(500, 2) (500, 2) (1000, 1)\n"
     ]
    },
    {
     "data": {
      "text/plain": "<mpl_toolkits.mplot3d.art3d.Path3DCollection at 0x7fc9f5e5a520>"
     },
     "execution_count": 154,
     "metadata": {},
     "output_type": "execute_result"
    },
    {
     "data": {
      "text/plain": "<Figure size 432x288 with 1 Axes>",
      "image/png": "[encoded data removed]"
     },
     "metadata": {
      "needs_background": "light"
     },
     "output_type": "display_data"
    }
   ],
   "source": [
    "# HELPER CELL, DO NOT MODIFY\n",
    "train_indices = indices[:NUM_OBS//2]\n",
    "test_indices = indices[NUM_OBS//2:]\n",
    "\n",
    "fig = plt.figure()\n",
    "ax = fig.add_subplot(111, projection='3d')\n",
    "\n",
    "xtrain = x_all[train_indices]\n",
    "ytrain = y_all[train_indices]\n",
    "xtest = x_all[test_indices]\n",
    "ytest = y_all[test_indices]\n",
    "\n",
    "print(xtrain.shape, xtest.shape, y_all.shape)\n",
    "ax.scatter(xtrain[:,0], xtrain[:,1], ytrain, c='r',s=4)\n",
    "ax.scatter(xtest[:,1], xtest[:,1], ytest, c='b',s=4)"
   ]
  },
  {
   "cell_type": "markdown",
   "metadata": {
    "colab_type": "text",
    "id": "GS2LrQNgpH-2"
   },
   "source": [
    "Now let's first train using the entire training set, and see how we performs on the test set and how the learned function look like."
   ]
  },
  {
   "cell_type": "code",
   "execution_count": 155,
   "metadata": {
    "colab": {},
    "colab_type": "code",
    "id": "pUj3xvMvpJxH"
   },
   "outputs": [
    {
     "name": "stdout",
     "output_type": "stream",
     "text": [
      "test rmse: 0.9589\n"
     ]
    }
   ],
   "source": [
    "# HELPER CELL, DO NOT MODIFY\n",
    "weight = reg.linear_fit_closed(x_all_feat[train_indices], y_all[train_indices])\n",
    "y_test_pred = reg.predict(x_all_feat[test_indices], weight)\n",
    "test_rmse = reg.rmse(y_test_pred, y_all[test_indices])\n",
    "print('test rmse: %.4f' % test_rmse)"
   ]
  },
  {
   "cell_type": "code",
   "execution_count": 156,
   "metadata": {
    "colab": {},
    "colab_type": "code",
    "id": "h8Qi59G7pMC4"
   },
   "outputs": [
    {
     "ename": "NotImplementedError",
     "evalue": "",
     "output_type": "error",
     "traceback": [
      "\u001B[0;31m---------------------------------------------------------------------------\u001B[0m",
      "\u001B[0;31mNotImplementedError\u001B[0m                       Traceback (most recent call last)",
      "\u001B[0;32m<ipython-input-156-27129e4241f5>\u001B[0m in \u001B[0;36m<module>\u001B[0;34m\u001B[0m\n\u001B[1;32m      1\u001B[0m \u001B[0;31m# HELPER CELL, DO NOT MODIFY\u001B[0m\u001B[0;34m\u001B[0m\u001B[0;34m\u001B[0m\u001B[0;34m\u001B[0m\u001B[0m\n\u001B[0;32m----> 2\u001B[0;31m \u001B[0mweight\u001B[0m \u001B[0;34m=\u001B[0m \u001B[0mreg\u001B[0m\u001B[0;34m.\u001B[0m\u001B[0mlinear_fit_GD\u001B[0m\u001B[0;34m(\u001B[0m\u001B[0mx_all_feat\u001B[0m\u001B[0;34m[\u001B[0m\u001B[0mtrain_indices\u001B[0m\u001B[0;34m]\u001B[0m\u001B[0;34m,\u001B[0m \u001B[0my_all\u001B[0m\u001B[0;34m[\u001B[0m\u001B[0mtrain_indices\u001B[0m\u001B[0;34m]\u001B[0m\u001B[0;34m,\u001B[0m \u001B[0mepochs\u001B[0m\u001B[0;34m=\u001B[0m\u001B[0;36m500000\u001B[0m\u001B[0;34m,\u001B[0m \u001B[0mlearning_rate\u001B[0m\u001B[0;34m=\u001B[0m\u001B[0;36m1e-9\u001B[0m\u001B[0;34m)\u001B[0m\u001B[0;34m\u001B[0m\u001B[0;34m\u001B[0m\u001B[0m\n\u001B[0m\u001B[1;32m      3\u001B[0m \u001B[0my_test_pred\u001B[0m \u001B[0;34m=\u001B[0m \u001B[0mreg\u001B[0m\u001B[0;34m.\u001B[0m\u001B[0mpredict\u001B[0m\u001B[0;34m(\u001B[0m\u001B[0mx_all_feat\u001B[0m\u001B[0;34m[\u001B[0m\u001B[0mtest_indices\u001B[0m\u001B[0;34m]\u001B[0m\u001B[0;34m,\u001B[0m \u001B[0mweight\u001B[0m\u001B[0;34m)\u001B[0m\u001B[0;34m\u001B[0m\u001B[0;34m\u001B[0m\u001B[0m\n\u001B[1;32m      4\u001B[0m \u001B[0mtest_rmse\u001B[0m \u001B[0;34m=\u001B[0m \u001B[0mreg\u001B[0m\u001B[0;34m.\u001B[0m\u001B[0mrmse\u001B[0m\u001B[0;34m(\u001B[0m\u001B[0my_test_pred\u001B[0m\u001B[0;34m,\u001B[0m \u001B[0my_all\u001B[0m\u001B[0;34m[\u001B[0m\u001B[0mtest_indices\u001B[0m\u001B[0;34m]\u001B[0m\u001B[0;34m)\u001B[0m\u001B[0;34m\u001B[0m\u001B[0;34m\u001B[0m\u001B[0m\n\u001B[1;32m      5\u001B[0m \u001B[0mprint\u001B[0m\u001B[0;34m(\u001B[0m\u001B[0;34m'test rmse: %.4f'\u001B[0m \u001B[0;34m%\u001B[0m \u001B[0mtest_rmse\u001B[0m\u001B[0;34m)\u001B[0m\u001B[0;34m\u001B[0m\u001B[0;34m\u001B[0m\u001B[0m\n",
      "\u001B[0;32m<ipython-input-146-78bf41de422c>\u001B[0m in \u001B[0;36mlinear_fit_GD\u001B[0;34m(self, xtrain, ytrain, epochs, learning_rate)\u001B[0m\n\u001B[1;32m     89\u001B[0m         \"\"\"\n\u001B[1;32m     90\u001B[0m \u001B[0;34m\u001B[0m\u001B[0m\n\u001B[0;32m---> 91\u001B[0;31m         \u001B[0;32mraise\u001B[0m \u001B[0mNotImplementedError\u001B[0m\u001B[0;34m\u001B[0m\u001B[0;34m\u001B[0m\u001B[0m\n\u001B[0m\u001B[1;32m     92\u001B[0m \u001B[0;34m\u001B[0m\u001B[0m\n\u001B[1;32m     93\u001B[0m     \u001B[0;32mdef\u001B[0m \u001B[0mlinear_fit_SGD\u001B[0m\u001B[0;34m(\u001B[0m\u001B[0mself\u001B[0m\u001B[0;34m,\u001B[0m \u001B[0mxtrain\u001B[0m\u001B[0;34m,\u001B[0m \u001B[0mytrain\u001B[0m\u001B[0;34m,\u001B[0m \u001B[0mepochs\u001B[0m\u001B[0;34m=\u001B[0m\u001B[0;36m100\u001B[0m\u001B[0;34m,\u001B[0m \u001B[0mlearning_rate\u001B[0m\u001B[0;34m=\u001B[0m\u001B[0;36m0.001\u001B[0m\u001B[0;34m)\u001B[0m\u001B[0;34m:\u001B[0m \u001B[0;31m# [5pts]\u001B[0m\u001B[0;34m\u001B[0m\u001B[0;34m\u001B[0m\u001B[0m\n",
      "\u001B[0;31mNotImplementedError\u001B[0m: "
     ]
    }
   ],
   "source": [
    "# HELPER CELL, DO NOT MODIFY\n",
    "weight = reg.linear_fit_GD(x_all_feat[train_indices], y_all[train_indices], epochs=500000, learning_rate=1e-9)\n",
    "y_test_pred = reg.predict(x_all_feat[test_indices], weight)\n",
    "test_rmse = reg.rmse(y_test_pred, y_all[test_indices])\n",
    "print('test rmse: %.4f' % test_rmse)"
   ]
  },
  {
   "cell_type": "markdown",
   "metadata": {
    "colab_type": "text",
    "id": "VAnWJW8ZpS_F"
   },
   "source": [
    "And what if we just use the first 10 observations to train? "
   ]
  },
  {
   "cell_type": "code",
   "execution_count": 157,
   "metadata": {
    "colab": {},
    "colab_type": "code",
    "id": "NNVl8HfwpU6n"
   },
   "outputs": [
    {
     "name": "stdout",
     "output_type": "stream",
     "text": [
      "test rmse: 5.2039\n"
     ]
    }
   ],
   "source": [
    "# HELPER CELL, DO NOT MODIFY\n",
    "sub_train = train_indices[:10]\n",
    "weight = reg.linear_fit_closed(x_all_feat[sub_train], y_all[sub_train])\n",
    "y_test_pred = reg.predict(x_all_feat[test_indices], weight)\n",
    "test_rmse = reg.rmse(y_test_pred, y_all[test_indices])\n",
    "print('test rmse: %.4f' % test_rmse)"
   ]
  },
  {
   "cell_type": "markdown",
   "metadata": {
    "colab_type": "text",
    "id": "dUWutkjgpYPN"
   },
   "source": [
    "Did you see a worse performance? Let's take a closer look at what we have learned."
   ]
  },
  {
   "cell_type": "code",
   "execution_count": null,
   "metadata": {
    "colab": {},
    "colab_type": "code",
    "id": "_tX0xGt1HFXc"
   },
   "outputs": [],
   "source": [
    "# HELPER CELL, DO NOT MODIFY\n",
    "y_pred = reg.predict(x_all_feat, weight)\n",
    "\n",
    "fig = plt.figure()\n",
    "ax = fig.add_subplot(111, projection='3d')\n",
    "\n",
    "x1 = x_all[:,0]\n",
    "x2 = x_all[:,0]\n",
    "y_pred = np.reshape(y_pred, (1000,))\n",
    "ax.plot(x1, x2, y_pred, color='b', lw=4)\n",
    "\n",
    "x3 = x_all[sub_train,0]\n",
    "x4 = x_all[sub_train,1]\n",
    "ax.scatter(x3, x4, y_all[sub_train], s=100, c='r', marker='x')\n",
    "\n",
    "y_test_pred = reg.predict(x_all_feat[test_indices], weight)"
   ]
  },
  {
   "cell_type": "markdown",
   "metadata": {
    "colab_type": "text",
    "id": "Qclyu8ZLHMpM"
   },
   "source": [
    "### 3.4.1 Testing: ridge regression [5 pts] <span style=\"color:green\">**[W]**</span>\n",
    "\n",
    "Now let's try ridge regression. Similarly, undergraduate students need to implement the closed form, and graduate students need to implement all the three methods. We will call the prediction function from linear regression part."
   ]
  },
  {
   "cell_type": "markdown",
   "metadata": {
    "colab_type": "text",
    "id": "xXwNWhnPHSZJ"
   },
   "source": [
    "Again, let's see what we have learned. You only need to run the cell corresponding to your specific implementation."
   ]
  },
  {
   "cell_type": "code",
   "execution_count": null,
   "metadata": {
    "colab": {},
    "colab_type": "code",
    "id": "Krvj9UaNHU0I"
   },
   "outputs": [],
   "source": [
    "# HELPER CELL, DO NOT MODIFY\n",
    "sub_train = train_indices[:10]\n",
    "print(x_all_feat[sub_train].shape)\n",
    "print(y_all[sub_train].shape)\n",
    "weight = reg.ridge_fit_closed(x_all_feat[sub_train], y_all[sub_train], c_lambda=1000)\n",
    "\n",
    "y_pred = reg.predict(x_all_feat, weight)\n",
    "\n",
    "y_test_pred = reg.predict(x_all_feat[test_indices], weight)\n",
    "test_rmse = reg.rmse(y_test_pred, y_all[test_indices])\n",
    "print('test rmse: %.4f' % test_rmse)\n",
    "\n",
    "fig = plt.figure()\n",
    "ax = fig.add_subplot(111, projection='3d')\n",
    "\n",
    "x1 = x_all[:,0]\n",
    "x2 = x_all[:,0]\n",
    "y_pred = np.reshape(y_pred, (1000,))\n",
    "ax.plot(x1, x2, y_pred, color='b', lw=4)\n",
    "\n",
    "x3 = x_all[sub_train,0]\n",
    "x4 = x_all[sub_train,1]\n",
    "ax.scatter(x3, x4, y_all[sub_train], s=100, c='r', marker='x')\n",
    "\n",
    "y_test_pred = reg.predict(x_all_feat[test_indices], weight)"
   ]
  },
  {
   "cell_type": "code",
   "execution_count": null,
   "metadata": {
    "colab": {},
    "colab_type": "code",
    "id": "8H1u-0RRHXkX"
   },
   "outputs": [],
   "source": [
    "# HELPER CELL, DO NOT MODIFY\n",
    "sub_train = train_indices[:10]\n",
    "weight = reg.ridge_fit_GD(x_all_feat[sub_train], y_all[sub_train], c_lambda=1000, learning_rate=1e-9)\n",
    "\n",
    "y_pred = reg.predict(x_all_feat, weight)\n",
    "\n",
    "y_test_pred = reg.predict(x_all_feat[test_indices], weight)\n",
    "test_rmse = reg.rmse(y_test_pred, y_all[test_indices])\n",
    "print('test rmse: %.4f' % test_rmse)\n",
    "\n",
    "fig = plt.figure()\n",
    "ax = fig.add_subplot(111, projection='3d')\n",
    "\n",
    "x1 = x_all[:,0]\n",
    "x2 = x_all[:,0]\n",
    "y_pred = np.reshape(y_pred, (1000,))\n",
    "ax.plot(x1, x2, y_pred, color='b', lw=4)\n",
    "\n",
    "x3 = x_all[sub_train,0]\n",
    "x4 = x_all[sub_train,1]\n",
    "ax.scatter(x3, x4, y_all[sub_train], s=100, c='r', marker='x')\n",
    "\n",
    "y_test_pred = reg.predict(x_all_feat[test_indices], weight)"
   ]
  },
  {
   "cell_type": "code",
   "execution_count": null,
   "metadata": {
    "colab": {},
    "colab_type": "code",
    "id": "SLY0_dU1HZfn"
   },
   "outputs": [],
   "source": [
    "# HELPER CELL, DO NOT MODIFY\n",
    "sub_train = train_indices[:10]\n",
    "weight = reg.ridge_fit_SGD(x_all_feat[sub_train], y_all[sub_train], c_lambda=1000, learning_rate=1e-9)\n",
    "\n",
    "y_pred = reg.predict(x_all_feat, weight)\n",
    "\n",
    "y_test_pred = reg.predict(x_all_feat[test_indices], weight)\n",
    "test_rmse = reg.rmse(y_test_pred, y_all[test_indices])\n",
    "print('test rmse: %.4f' % test_rmse)\n",
    "\n",
    "fig = plt.figure()\n",
    "ax = fig.add_subplot(111, projection='3d')\n",
    "\n",
    "x1 = x_all[:,0]\n",
    "x2 = x_all[:,0]\n",
    "y_pred = np.reshape(y_pred, (1000,))\n",
    "ax.plot(x1, x2, y_pred, color='b', lw=4)\n",
    "\n",
    "x3 = x_all[sub_train,0]\n",
    "x4 = x_all[sub_train,1]\n",
    "ax.scatter(x3, x4, y_all[sub_train], s=100, c='r', marker='x')\n",
    "\n",
    "y_test_pred = reg.predict(x_all_feat[test_indices], weight)"
   ]
  },
  {
   "cell_type": "markdown",
   "metadata": {},
   "source": [
    "### 3.4.2 Lasso and Ridge Regression [5 pts] <span style=\"color:green\">**[W]**</span>\n",
    "We train two linear regression models with different regularizations- one with lasso regularization and the other with ridge regularization. Let $w_1$ be the final weight vector for the model with lasso regularization and let $w_2$ be the final weight vector for the model with ridge regularization. How do $w_1$ and $w_2$ differ in terms of sparsity? For ridge regression, how do the weights change with change in lambda?"
   ]
  },
  {
   "cell_type": "markdown",
   "metadata": {
    "colab_type": "text",
    "id": "B6gwxJkVHdB8"
   },
   "source": [
    "### 3.5 Cross validation [7 pts] <span style=\"color:green\">**[W]**</span>\n",
    "Let's use Cross Validation to find the best value for c_lambda in ridge regression."
   ]
  },
  {
   "cell_type": "code",
   "execution_count": null,
   "metadata": {
    "colab": {},
    "colab_type": "code",
    "id": "nA1aW31XHRXj"
   },
   "outputs": [],
   "source": [
    "# We provided 6 possible values for lambda, and you will use them in cross validation.\n",
    "# For cross validation, use 10-fold method and only use it for your training data (you already have the train_indices to get training data).\n",
    "# For the training data, split them in 10 folds which means that use 10 percent of training data for test and 90 percent for training.\n",
    "# At the end for each lambda, you have caluclated 10 rmse and get the mean value of that.\n",
    "# That's it. Pick up the lambda with the lowest mean value of rmse. \n",
    "# Hint: np.concatenate is your friend.\n",
    "best_lambda = None\n",
    "best_error = None\n",
    "kfold = 10\n",
    "lambda_list = [0.1, 1, 5, 10, 100, 1000]\n",
    "\n",
    "for lm in lambda_list:\n",
    "    err = reg.ridge_cross_validation(x_all_feat[train_indices], y_all[train_indices], kfold, lm)\n",
    "    print('lambda: %.2f' % lm, 'error: %.6f'% err)\n",
    "    if best_error is None or err < best_error:\n",
    "        best_error = err\n",
    "        best_lambda = lm\n",
    "\n",
    "print('best_lambda: %.2f' % best_lambda)\n",
    "weight = reg.ridge_fit_closed(x_all_feat[train_indices], y_all[train_indices], c_lambda=10)\n",
    "y_test_pred = reg.predict(x_all_feat[test_indices], weight)\n",
    "test_rmse = reg.rmse(y_test_pred, y_all[test_indices])\n",
    "print('test rmse: %.4f' % test_rmse)  "
   ]
  },
  {
   "cell_type": "markdown",
   "metadata": {
    "colab_type": "text",
    "id": "VseMdaxZ8MSh"
   },
   "source": [
    "## 4. Naive Bayes Classification [20pts]"
   ]
  },
  {
   "cell_type": "markdown",
   "metadata": {
    "colab_type": "text",
    "id": "VLGB3ah5v9aN"
   },
   "source": [
    "In Bayesian classification, we're interested in finding the probability of a label given some observed feature vector $x = [x_{1},.., x_{d}]$, which we can write as $P(y~|~{ x_{1},.., x_{d}})$.\n",
    "Bayes's theorem tells us how to express this in terms of quantities we can compute more directly:\n",
    "\n",
    "\\begin{eqnarray} \n",
    "P(y~|~{ x_{1},.., x_{d}}) = \\frac{P({ x_{1},.., x_{d}}~|~y)P(y)}{P({ x_{1},.., x_{d}})} \n",
    "\\end{eqnarray}\n",
    "\n",
    "\n",
    "The main assumption in Naive Bayes is that, given the label, the observed features are conditionally independent i.e. \n",
    "\n",
    "$$\n",
    "P({ x_{1},.., x_{d}}~|~y) = P({x_{1}}~|~y) \\times .. \\times P({x_{d}}~|~y)    \n",
    "$$\n",
    "\n",
    "Therefore, we can rewrite Bayes rule as\n",
    "\n",
    "\\begin{eqnarray}\n",
    "P(y~|~{ x_{1},.., x_{d}}) = \\frac{P({x_{1}}~|~y) \\times .. \\times P({x_{d}}~|~y)P(y)}{P({ x_{1},.., x_{d}})}\n",
    "\\end{eqnarray}\n",
    "\n",
    "### Training Naive Bayes\n",
    "One way to train a Naive Bayes classifier is done using frequentist approach to calculate probability, which is simply going over the training data and calculating the frequency of different observations in the training set given different labels. For example,  \n",
    "\\begin{eqnarray}\n",
    "P({x_{1}=i}~|~y=j) &=& \\frac{P({x_{1}=i}, y=j)}{P(y=j)} =  \\frac{\\text{Number of times in training data } x_{1}=i \\text{ and } y=j }{\\text{Total number of times in training data } y=j}\n",
    "\\end{eqnarray}\n",
    "\n",
    "### Testing Naive Bayes\n",
    "\n",
    "During the testing phase, we try to estimate the probability of a label given an observed feature vector. We combine the probabilities computed from training data to estimate the probability of a given label. For example, if we are trying to decide between two labels $y_{1}$ and $y_{2}$, then we compute the ratio of the posterior probabilities for each label:\n",
    "\n",
    "\\begin{eqnarray}\n",
    "\\frac{P(y_{1}~|~ x_{1},.., x_{d})}{P(y_2~|~x_{1},.., x_{d})} = \\frac{P(x_{1},.., x_{d}~|~y_{1})}{P(x_{1},.., x_{d}~|~y_{2})}\\frac{P(y_1)}{P(y_2)}= \\frac{P({x_{1}}~|~y_{1}) \\times .. \\times P({x_{d}}~|~y_{1})P(y_{1})}{P({x_{1}}~|~y_{2}) \\times .. \\times P({x_{d}}~|~y_{2})P(y_{2})}\n",
    "\\end{eqnarray}\n",
    "\n",
    "All we need now is to compute $P(x_{1}|y_{i}),.., P(x_{d}~|~y_i)$ and $P(y_{i})$ for each label by pluging in the numbers we got during training. The label with the higher posterior probabilities is the one that is selected."
   ]
  },
  {
   "cell_type": "markdown",
   "metadata": {
    "colab_type": "text",
    "id": "Cp4y8Xws8XU-"
   },
   "source": [
    "### 4.1 Bayes in Advertisements [5pts] <span style=\"color:green\">**[W]**</span>\n"
   ]
  },
  {
   "cell_type": "markdown",
   "metadata": {
    "colab_type": "text",
    "id": "beb0jOdBGsg2"
   },
   "source": [
    "An advertising agency want to analyze the advertisements for a product. They want to target people from all age groups. They show 5 advertisement videos to 200 people. The following is the data on how many people from each group liked which videos. \n",
    "\n",
    "| Age Group    | Total | Video 1 | Video 2 | Video 3 | Video 4 | Video 5 |\n",
    "|--------------|-------|---------|---------|---------|---------|---------|\n",
    "| 16 - 35      | 100   | 20      | 30      | 60      | 15      | 90      |\n",
    "| 36 - 55      | 60    | 15      | 50      | 30      | 20      | 40      |\n",
    "| Above 55     | 40    | 35      | 30      | 10      | 10      | 5       |\n",
    "| Total        | 200   | 70      | 110     | 100     | 45      | 135     |\n",
    "\n",
    "A new consumer is shown the videos and he likes videos 2, 3 and 5. Which age group is he most likely to belong to?\n",
    "\n",
    "Note: You can assume that each person provides opinion about each video independently i.e. Person 1 liking Video 1 has no effect on their assesment of Video 2."
   ]
  },
  {
   "cell_type": "markdown",
   "metadata": {
    "colab_type": "text",
    "id": "zkrPLBXr8suX"
   },
   "source": [
    "### 4.2 The Federalist Papers [15pts] <span style=\"color:blue\">**[P]**</span>"
   ]
  },
  {
   "cell_type": "markdown",
   "metadata": {
    "colab_type": "text",
    "id": "NmnXJLaMYJXw"
   },
   "source": [
    " [The Federalist Papers](https://en.wikipedia.org/wiki/The_Federalist_Papers) were a series of essays written in 1787–1788 meant to persuade the citizens of the State of New York to ratify the Constitution and which were published anonymously under the pseudonym “Publius”. In later years the authors were revealed as Alexander Hamilton, John Jay, and James Madison. However, there is some disagreement as to who wrote which essays. Hamilton wrote a list of which essays he had authored only days before being killed in a duel with then Vice President Aaron Burr. Madison wrote his own list many years later, which is in conflict with Hamilton’s list on 12 of the essays. Since by this point the two (who were once close friends) had become bitter rivals, historians have long been unsure as to the reliability of both lists. We will try to settle this dispute using a simple Naive Bayes classifier. \n",
    "\n",
    "The code which is provided loads the documents and builds a [“bag of words” representation](https://en.wikipedia.org/wiki/Bag-of-words_model)  of each document. Your task is to complete the missing portions of the code and to determine your best guess as to who wrote each of the 12 disputed essays. \n",
    "(Hint: H and M are the labels that stand for Hamilton and Madison, while the label D stands for disputed for the papers we are trying to label in our data. Our job here is to define whether D essays belong to H or M using Naive Bayes. Note that the label D for disputed, is completely unrelated to the feature dimension D which is an integer).\n",
    "\n",
    "\\_priors_ratio function calculates the ratio of class probabilities of document belonging to Hamilton as compared to Madison. We do this based on word counts rather than document counts.\n",
    "\n",
    "\\_likelihood_ratio function calculates the ratio of word probablities given the author it belonged to. \n",
    "\n",
    "**Note 1:** In \\_likelihood_ratio() add one to each word count so as to avoid issues with zero word count. This is known as Add-1 smoothing. It is a type of additive smoothing. "
   ]
  },
  {
   "cell_type": "code",
   "execution_count": null,
   "metadata": {
    "colab": {
     "base_uri": "https://localhost:8080/",
     "height": 165
    },
    "colab_type": "code",
    "id": "DE3Q5iy0vqxj",
    "outputId": "7796f284-b17a-4b99-ff19-2f83b94ed704",
    "scrolled": true
   },
   "outputs": [],
   "source": [
    "class NaiveBayes(object):\n",
    "\n",
    "    def __init__(self):\n",
    "        # load Documents\n",
    "        x = open('fedpapers_split.txt').read()\n",
    "        papers = json.loads(x)\n",
    "\n",
    "        # split Documents\n",
    "        papersH = papers[0] # papers by Hamilton \n",
    "        papersM = papers[1] # papers by Madison\n",
    "        papersD = papers[2] # disputed papers\n",
    "\n",
    "        # Number of Documents for H, M and D\n",
    "        nH = len(papersH)\n",
    "        nM = len(papersM)\n",
    "        nD = len(papersD)\n",
    "        \n",
    "        '''To ignore certain common words in English that might skew your model, we add them to the stop words \n",
    "        list below. You may want to experiment by choosing your own list of stop words, but be sure to keep \n",
    "        'HAMILTON' and 'MADISON' in this list at a minimum, as their names appear in the text of the papers \n",
    "        and leaving them in could lead to unpredictable results '''\n",
    "\n",
    "        stop_words = text.ENGLISH_STOP_WORDS.union({'HAMILTON','MADISON'})\n",
    "        #stop_words = {'HAMILTON','MADISON'}\n",
    "        # Form bag of words model using words used at least 10 times\n",
    "        vectorizer = text.CountVectorizer(stop_words=stop_words,min_df=10)\n",
    "        X = vectorizer.fit_transform(papersH+papersM+papersD).toarray()\n",
    "\n",
    "        '''To visualize the full list of words remaining after filtering out stop words and words used less \n",
    "        than min_df times uncomment the following line'''\n",
    "        #print(vectorizer.vocabulary_)\n",
    "\n",
    "        # split word counts into separate matrices\n",
    "        self.XH, self.XM, self.XD = X[:nH,:], X[nH:nH+nM,:], X[nH+nM:,:]\n",
    "        \n",
    "\n",
    "    def _likelihood_ratio(self, XH, XM): # [5pts]\n",
    "        '''\n",
    "        Args:\n",
    "            XH: nH x D where nH is the number of documents that we have for Hamilton,\n",
    "                while D is the number of features (we use the word count as the feature)\n",
    "            XM: nM x D where nM is the number of documents that we have for Madison,\n",
    "                while D is the number of features (we use the word count as the feature)\n",
    "        Return:\n",
    "            fratio: 1 x D vector of the likelihood ratio of different words (Hamilton/Madison)\n",
    "        '''\n",
    "        # Estimate probability of each word in vocabulary being used by Hamilton \n",
    "        \n",
    "        # Estimate probability of each word in vocabulary being used by Madison \n",
    "        \n",
    "        # Compute ratio of these probabilities\n",
    "        \n",
    "        raise NotImplementedError\n",
    "    \n",
    "    def _priors_ratio(self, XH, XM): # [5pts]\n",
    "        '''\n",
    "        Args:\n",
    "            XH: nH x D where nH is the number of documents that we have for Hamilton,\n",
    "                while D is the number of features (we use the word count as the feature)\n",
    "            XM: nM x D where nM is the number of documents that we have for Madison,\n",
    "                while D is the number of features (we use the word count as the feature)\n",
    "        Return:\n",
    "            pr: prior ratio of (Hamilton/Madison)\n",
    "        '''\n",
    "        # Compute prior probabilities \n",
    "        \n",
    "        raise NotImplementedError\n",
    "\n",
    "    def classify_disputed(self, fratio, pratio, XD): # [5pts]\n",
    "        '''\n",
    "        Args:\n",
    "            fratio: 1 x D vector of ratio of likelihoods of different words\n",
    "            pratio: 1 x 1 number\n",
    "            XD: 12 x D bag of words representation of the 12 disputed documents (D = 1307 which are the number of features for each document)\n",
    "        Return:\n",
    "             1 x 12 list, each entry is H to indicate Hamilton or M to indicate Madison for the corrsponding document\n",
    "        '''        \n",
    "        \n",
    "        raise NotImplementedError"
   ]
  },
  {
   "cell_type": "code",
   "execution_count": null,
   "metadata": {},
   "outputs": [],
   "source": [
    "# HELPER CELL, DO NOT MODIFY\n",
    "NB = NaiveBayes()\n",
    "fratio = NB._likelihood_ratio(NB.XH, NB.XM)\n",
    "pratio = NB._priors_ratio(NB.XH, NB.XM)\n",
    "resolved = NB.classify_disputed(fratio, pratio, NB.XD)\n",
    "    \n",
    "print(resolved)"
   ]
  },
  {
   "cell_type": "markdown",
   "metadata": {},
   "source": [
    "## 5 Noise in PCA and Linear Regression (15 Pts) <span style=\"color:green\">**[W]**</span>"
   ]
  },
  {
   "cell_type": "markdown",
   "metadata": {},
   "source": [
    "Both PCA and least squares regression can be viewed as algorithms for inferring (linear) relationships\n",
    "among data variables. In this part of the assignment, you will develop some intuition for the differences\n",
    "between these two approaches, and an understanding of the settings that are better suited to using PCA or\n",
    "better suited to using the least squares fit.\n",
    "\n",
    "The high level bit is that PCA is useful when there is a set of latent (hidden/underlying)\n",
    "variables, and all the coordinates of your data are linear combinations (plus noise) of those variables. The\n",
    "least squares fit is useful when you have direct access to the independent variables, so any noisy coordinates\n",
    "are linear combinations (plus noise) of known variables.\n",
    "\n",
    "### 5.1 Slope Functions (5 Pts) <span style=\"color:green\">**[W]**</span>\n",
    "\n",
    "In the following cell:\n",
    "1. For this function assume that X is the first feature and Y is the second feature for the data. Write a function pca_slope that takes a vector X of xi’s and a vector Y of yi’s and returns the slope of the first component of the PCA. \n",
    "2. Write a function linear_regression_slope that takes X and y and returns the slope of the least squares fit. (Hint: since X is one dimensional, this takes a particularly simple form1 $ ((X−\\overline{X}) \\cdot (Y − \\overline{Y}))/\\lVert X − \\overline{X} \\rVert_2^2$, where X is the mean value of X.)\n",
    "\n",
    "In later subparts, we consider the case where our data consists of noisy measurements of x and y. For each\n",
    "part, we will evaluate the quality of the relationship recovered by PCA, and that recovered by standard least\n",
    "squares regression.\n",
    "\n",
    "As a reminder, least squares regression minimizes the squared error of the dependent variable from its\n",
    "prediction. Namely, given $(x_i, y_i)$ pairs, least squares returns the line $l(x)$ that minimizes $\\sum_i (y_i − l(x_i))^2$.\n",
    "\n",
    "**Note 1:** You should use the PCA and Linear Regression implementations from Q2 and Q3 in this question. Do not use any kind of regularization for Linear Regression."
   ]
  },
  {
   "cell_type": "code",
   "execution_count": null,
   "metadata": {},
   "outputs": [],
   "source": [
    "def pca_slope(x, y):\n",
    "    \"\"\"\n",
    "    Calculates the slope of the first principal component given by PCA\n",
    "\n",
    "    Args: \n",
    "        x: (N,) vector of feature x\n",
    "        y: (N,) vector of feature y\n",
    "    Return:\n",
    "        slope: slope of the first principal component\n",
    "    \"\"\"\n",
    "    \n",
    "    raise NotImplementedError\n",
    "    \n",
    "\n",
    "def lr_slope(X, y):\n",
    "    \"\"\"\n",
    "    Calculates the slope of the best fit as given by Linear Regression\n",
    "    \n",
    "    For this function don't use any regularization\n",
    "\n",
    "    Args: \n",
    "        X: N*1 array corresponding to a dataset\n",
    "        y: N*1 array of labels y\n",
    "    Return:\n",
    "        slope: slope of the best fit\n",
    "    \"\"\"\n",
    "    \n",
    "    raise NotImplementedError"
   ]
  },
  {
   "cell_type": "markdown",
   "metadata": {},
   "source": [
    "We will consider a simple example with two variables, x and y, where the true relationship between the\n",
    "variables is y = 2x. Our goal is to recover this relationship—namely, recover the coefficient “2”. We set X = [0, .01, .02, .03, . . . , 1] and y = 2x. Make sure both functions return 2."
   ]
  },
  {
   "cell_type": "code",
   "execution_count": null,
   "metadata": {},
   "outputs": [],
   "source": [
    "# HELPER CELL, DO NOT MODIFY\n",
    "x = np.arange(0, 1, 0.01)\n",
    "y = 2 * np.arange(0, 1, 0.01)\n",
    "\n",
    "print(\"Slope of first principal component\", pca_slope(x, y))\n",
    "\n",
    "print(\"Slope of best linear fit\", lr_slope(x[:, None], y))\n",
    "\n",
    "plt.scatter(x, y)\n",
    "plt.xlabel(\"x\")\n",
    "plt.ylabel(\"y\")\n",
    "plt.show()"
   ]
  },
  {
   "cell_type": "markdown",
   "metadata": {},
   "source": [
    "### 5.2 Analysis Setup (5 Pts) <span style=\"color:green\">**[W]**</span>\n",
    "\n",
    "### Error in y"
   ]
  },
  {
   "cell_type": "markdown",
   "metadata": {},
   "source": [
    "In this subpart, we consider the setting where our data consists of the actual values of $x$, and noisy estimates of $y$. Run the following cell to see how the data looks when there is error in $y$."
   ]
  },
  {
   "cell_type": "code",
   "execution_count": null,
   "metadata": {},
   "outputs": [],
   "source": [
    "# HELPER CELL, DO NOT MODIFY\n",
    "base = np.arange(0.001, 1, 0.001)\n",
    "c = 0.5\n",
    "X = base\n",
    "y = 2 * base + np.random.normal(loc=[0], scale=c, size=base.shape)\n",
    "\n",
    "plt.scatter(X, y)\n",
    "plt.xlabel(\"x\")\n",
    "plt.ylabel(\"y\")\n",
    "plt.show()"
   ]
  },
  {
   "cell_type": "markdown",
   "metadata": {},
   "source": [
    "In the subsequent cell implement the following:\n",
    "1. Fix $X = [x_1, x_2, . . . , x_{1000}] = [.001, .002, .003, . . . , 1]$.\n",
    "2. For a given noise level $c$, set $ \\hat{y}_i ∼ 2x_i + \\mathcal{N}(0, c) = 2i/1000 + \\mathcal{N}(0, c)$, and $\\hat{Y} = [\\hat{y}_1, \\hat{y}_2, . . . , \\hat{y}_{1000}]$\n",
    "3. Make a scatter plot with c on the horizontal axis, and the output of pca-slope and ls-slope on the vertical axis.\n",
    "4. For each $c$ in $[0, 0.05, 0.1, . . . , .95, 1.0]$, take a sample $\\hat{Y}$, plot the output of pca-recover as a red dot, and the output of ls-recover as a blue dot. Repeat 30 times. You should end up with a plot of 1260 dots, in 21 columns of 60, half red and half blue."
   ]
  },
  {
   "cell_type": "code",
   "execution_count": null,
   "metadata": {},
   "outputs": [],
   "source": [
    "pca_slope_values = []\n",
    "linreg_slope_values = []\n",
    "c_values = []\n",
    "\n",
    "for i in range(30):\n",
    "    for c in np.arange(0, 1, 0.05):\n",
    "        ####### YOUR CODE BELOW #######\n",
    "        \n",
    "        ###############################\n",
    "\n",
    "        c_values.append(c)\n",
    "\n",
    "plt.scatter(c_values, pca_slope_values, c='r')\n",
    "plt.scatter(c_values, linreg_slope_values, c='b')\n",
    "plt.xlabel(\"c\")\n",
    "plt.ylabel(\"slope\")\n",
    "plt.show()"
   ]
  },
  {
   "cell_type": "markdown",
   "metadata": {},
   "source": [
    "### Error in x and y"
   ]
  },
  {
   "cell_type": "markdown",
   "metadata": {},
   "source": [
    "We now examine the case where our data consists of noisy estimates of both $x$ and $y$. Run the following cell to see how the data looks when there is error in both."
   ]
  },
  {
   "cell_type": "code",
   "execution_count": null,
   "metadata": {},
   "outputs": [],
   "source": [
    "# HELPER CELL, DO NOT MODIFY\n",
    "base = np.arange(0.001, 1, 0.001)\n",
    "c = 0.5\n",
    "X = base + np.random.normal(loc=[0], scale=c, size=base.shape) * 0.5\n",
    "y = 2 * base + np.random.normal(loc=[0], scale=c, size=base.shape) * 0.5\n",
    "\n",
    "plt.scatter(X, y)\n",
    "plt.xlabel(\"x\")\n",
    "plt.ylabel(\"y\")\n",
    "plt.show()"
   ]
  },
  {
   "cell_type": "markdown",
   "metadata": {},
   "source": [
    "In the subsequent cell implement the following:\n",
    "1. For a given noise level c, let $\\hat{x}_i ∼ x_i + \\mathcal{N}(0, c) = i/1000 + \\mathcal{N}(0, c)$, and $\\hat{X} = [\\hat{x}_1, \\hat{x}_2, . . . . \\hat{x}_{1000}]$\n",
    "2. For the same noise level c, set $ \\hat{y}_i ∼ 2x_i + \\mathcal{N}(0, c) = 2i/1000 + \\mathcal{N}(0, c)$, and $\\hat{Y} = [\\hat{y}_1, \\hat{y}_2, . . . , \\hat{y}_1000]$\n",
    "3. Make a scatter plot with c on the horizontal axis, and the output of pca-slope and ls-slope on the vertical axis. For each $c$ in $[0, 0.05, 0.1, . . . , .95, 1.0]$, take a sample of both $\\hat{X}$ and $\\hat{Y}$, plot the output of pca-recover as a red dot, and the output of ls-recover as a blue dot. Repeat 30 times. You should end up with a plot of 1260 dots, in 21 columns of 60, half red and half blue."
   ]
  },
  {
   "cell_type": "code",
   "execution_count": null,
   "metadata": {},
   "outputs": [],
   "source": [
    "pca_slope_values = []\n",
    "linreg_slope_values = []\n",
    "c_values = []\n",
    "\n",
    "for i in range(30):\n",
    "    for c in np.arange(0, 1, 0.05):\n",
    "        ####### YOUR CODE BELOW #######\n",
    "        \n",
    "        ###############################\n",
    "\n",
    "        c_values.append(c)\n",
    "\n",
    "plt.scatter(c_values, pca_slope_values, c='r')\n",
    "plt.scatter(c_values, linreg_slope_values, c='b')\n",
    "plt.xlabel(\"c\")\n",
    "plt.ylabel(\"slope\")\n",
    "plt.show()"
   ]
  },
  {
   "cell_type": "markdown",
   "metadata": {},
   "source": [
    "### 5.3. Analysis (5 Pts) <span style=\"color:green\">**[W]**</span>\n",
    "Based on your observations from previous subsections answer the following questions about the two cases (error in $X$ and error in both $X$ and $Y$) in 2-3 lines. \n",
    "\n",
    "Note: \n",
    "1. The closer the value of slope to actual slope (\"2\" here) the better the algorithm is performing.\n",
    "2. You don't need to provide a proof for this question.\n",
    "\n",
    "Questions:\n",
    "1. Which case does PCA perform worse in? Why does PCA perform worse in this case?\n",
    "2. Why does PCA perform better in the other case?\n",
    "3. Which case does Linear Regression perform well? Why does Linear Regression perform well in this case?"
   ]
  },
  {
   "cell_type": "markdown",
   "metadata": {},
   "source": [
    "## 6 Manifold learning [Bonus for everyone][30 pts] <span style=\"color:green\">**[W]**</span>|<span style=\"color:blue\">**[P]**</span>\n",
    "\n",
    "While PCA is wonderful tool for dimensionality reduction it does not work very well when dealing with non-linear relationships between features. Manifold learning is a class of algorithms that can be used to reduce dimensions in complex high-dimensional datasets. While a number of methods have been proposed to perform this type of operation, we will focus on Isomap. Isomap has been shown to be sensitive to data noise amongst other issues, however it has been shown to perform reasonably well for real world data. The algorithm consists of two main steps: first computing a manifold distance matrix, followed by classical mutidimensional scaling. You will be creating your implementation of Isomap. In order to do so, you must read the original paper [\"A Global Geometric Framework for Nonlinear Dimensionality Reduction\"](http://web.mit.edu/cocosci/Papers/sci_reprint.pdf) by Tenenbaum et al. (2000), which outlines the method. You are also encouraged to read this [general survey of manifold learning](https://cseweb.ucsd.edu/~lcayton/resexam.pdf) by Cayton (2005), where the original algorithm is further explained in a more detailed yet simplified fashion."
   ]
  },
  {
   "cell_type": "markdown",
   "metadata": {},
   "source": [
    "### 6.1 Implementation [23 pts] <span style=\"color:blue\">**[P]**</span>"
   ]
  },
  {
   "cell_type": "markdown",
   "metadata": {},
   "source": [
    "#### 6.1.1 pairwise distance [3pts] <span style=\"color:blue\">**[P]**</span>\n",
    "\n",
    "In this section, you are asked to implement pairwise_dist function.\n",
    "\n",
    "Given $X \\in \\mathbb{R}^{N x D}$ and $Y \\in \\mathbb{R}^{M x D}$, obtain the pairwise distance matrix $dist \\in \\mathbb{R}^{N x M}$ using the euclidean distance metric, where $dist_{i, j} = ||X_i - Y_j||_2$.  \n",
    "\n",
    "DO NOT USE FOR LOOP in your implementation -- they are slow and will make your code too slow to pass our grader.  Use array broadcasting instead."
   ]
  },
  {
   "cell_type": "markdown",
   "metadata": {},
   "source": [
    "#### 6.1.2 manifold distance matrix [10pts] <span style=\"color:blue\">**[P]**</span>\n",
    "\n",
    "In this section, you need to implement manifold_distance_matrix function.\n",
    "\n",
    "Given $X \\in \\mathbb{R}^{N x D}$ and the number of the clusters $K$, compute the distance matrix $dist \\in \\mathbb{R}^{N x M}$, where the values obey the following equations:\n",
    "\n",
    "$$\n",
    "dist_{ij}=\n",
    "\\left\\{\n",
    "\\begin{aligned}\n",
    "&||X_i - Y_j||_2,&\\ j \\in Neighbour(i),\\\\\n",
    "&Shortest\\ Path\\ Distance,&\\ j\\notin Neighbour(i).\n",
    "\\end{aligned}\n",
    "\\right.\n",
    "$$\n",
    "\n",
    "**Hint:** For doing this part, you can partly utilize the scipy toolbox. After creating your k-nearest weighted neighbors adjacency matrix, you can convert it to a sparse graph\n",
    "    object [csr_matrix](https://docs.scipy.org/doc/scipy/reference/generated/scipy.sparse.csr_matrix.html) and utilize\n",
    "    the [pre-built Floyd-Warshall algorithm](https://docs.scipy.org/doc/scipy/reference/generated/scipy.sparse.csgraph.floyd_warshall.html)\n",
    "    to compute the manifold distance matrix.\n"
   ]
  },
  {
   "cell_type": "markdown",
   "metadata": {},
   "source": [
    "#### 6.1.3 multidimensional scaling [10pts] <span style=\"color:blue\">**[P]**</span>\n",
    "\n",
    "In this section, you need to accomplish the multimensional_scaling part.\n",
    "\n",
    "Given the computed distance matrix $dist_{ij}$ and the size of the new reduced feature space $d$, you need to return the X embedding of the new feature space.\n",
    "\n",
    "**Closed Form of the Gram Matrix with Centering:** <br>\n",
    "<br>\n",
    "We can now succinctly state the closed matrix form of $B$ by making use of the centering matrix:\n",
    "<br>\n",
    "<br>\n",
    "$$\\boxed {B = \\frac{-1}{2} C_n D^{2} C_{n}}$$ <br>\n",
    "**Note:** $C_n$ is the centering matrix with $C_{n} = I_{n} - \\frac{1}{n} \\mathbf{1}\\mathbf{1^T}$ and from the original distance matrix we have $D^{2}$ = matrix with entries ${d_{ij}^2}$\n",
    "\n",
    "**Find eigenvalues and eigenvectors of matrix B**\n",
    "Since the gram matrix $B$ is a real symmetric, positive definite matrix, we know that it will have real eigenvalues and we can use the following eigendecomposition of B in order to find an expression for our output configuration: <br>\n",
    "<br>\n",
    "$$\n",
    "\\begin{aligned}\n",
    "B & = V \\Lambda V^T\\\\\n",
    "            & = {(\\Lambda^\\frac{1}{2} V^{T})}^T (\\Lambda^\\frac{1}{2} V^{T})\\\\\n",
    "            & = X X^T & \\text{(from original def. of B)}\\\\\n",
    "\\end{aligned}\n",
    "$$<br>\n",
    "and therefore we have\n",
    "<br>\n",
    "$$X = V \\sqrt{\\Lambda}$$ <br>\n",
    "where the eigenvalues are given by diagonal matrix $\\mathbf{\\Lambda}=\\operatorname{diag}\\left(\\lambda_{1}, \\ldots, \\lambda_{n}\\right)$ and the eigenvectors are given by the following matrix with the columns set as the eigenvectors $V=\\left(v_{1}, \\ldots, v_{n}\\right)^{T}$\n",
    "\n",
    "**Find coordinates of output configuration**\n",
    "We can now define a k-dimensional configuration by choosing the largest k eigenvalues and the corresponding eigenvectors from k columns of V: <br>\n",
    "<br>\n",
    "$$ \\boxed{X_{k} = V_{k} \\sqrt{\\Lambda_{k}}}$$\n",
    "where $\\Lambda_{k}$ is the k x k diagonal submatrix of $\\Lambda$ and $V_{k}$ is the n x k submatrix of $V$."
   ]
  },
  {
   "cell_type": "markdown",
   "metadata": {},
   "source": [
    "In the cell below implement the code for section 5.1"
   ]
  },
  {
   "cell_type": "code",
   "execution_count": null,
   "metadata": {},
   "outputs": [],
   "source": [
    "class Isomap(object):\n",
    "    def __init__(self): # No need to implement\n",
    "        pass\n",
    "    \n",
    "    def pairwise_dist(self, x, y): # [3 pts]\n",
    "        \"\"\"\n",
    "        Args:\n",
    "            x: N x D numpy array\n",
    "            y: M x D numpy array\n",
    "        Return:\n",
    "                dist: N x M array, where dist2[i, j] is the euclidean distance between \n",
    "                x[i, :] and y[j, :]\n",
    "                \"\"\"\n",
    "    \n",
    "        raise NotImplementedError\n",
    "    \n",
    "    def manifold_distance_matrix(self, x, K): # [10 pts]\n",
    "        \"\"\"\n",
    "        Args:\n",
    "            x: N x D numpy array\n",
    "        Return:\n",
    "            dist_matrix: N x N numpy array, where dist_matrix[i, j] is the euclidean distance between points if j is in the neighborhood N(i)\n",
    "            or comp_adj = shortest path distance if j is not in the neighborhood N(i).\n",
    "        Hint: After creating your k-nearest weighted neighbors adjacency matrix, you can convert it to a sparse graph\n",
    "        object csr_matrix (https://docs.scipy.org/doc/scipy/reference/generated/scipy.sparse.csr_matrix.html) and utilize\n",
    "        the pre-built Floyd-Warshall algorithm (https://docs.scipy.org/doc/scipy/reference/generated/scipy.sparse.csgraph.floyd_warshall.html)\n",
    "        to compute the manifold distance matrix.\n",
    "        \"\"\"\n",
    "\n",
    "        raise NotImplementedError\n",
    "\n",
    "    \n",
    "    def multidimensional_scaling(self, dist_matrix, d): # [10 pts]\n",
    "        \"\"\"\n",
    "        Args:\n",
    "            dist_matrix: N x N numpy array, the manifold distance matrix\n",
    "            d: integer, size of the new reduced feature space \n",
    "        Return:\n",
    "            S: N x d numpy array, X embedding into new feature space.\n",
    "        \"\"\"\n",
    "        \n",
    "        raise NotImplementedError\n",
    "\n",
    "    # you do not need to change this\n",
    "    def __call__(self, data, K, d):\n",
    "        # get the manifold distance matrix\n",
    "        W = self.manifold_distance_matrix(data, K)\n",
    "        # compute the multidimensional scaling embedding\n",
    "        emb_X = self.multidimensional_scaling(W, d)\n",
    "        return emb_X"
   ]
  },
  {
   "cell_type": "markdown",
   "metadata": {},
   "source": [
    "### 6.2 Examples for different datasets [7pts] <span style=\"color:green\">**[W]**</span>\n",
    "Apply your implementation of Isomap for some of the datasets (e.g. MNIST and Iris). Discuss how the results compare to PCA."
   ]
  },
  {
   "cell_type": "code",
   "execution_count": null,
   "metadata": {},
   "outputs": [],
   "source": [
    "# HELPER CELL, DO NOT MODIFY\n",
    "# example MNIST data\n",
    "mnist = load_digits()\n",
    "proj = Isomap()(mnist.data, 10, 2)\n",
    "plt.scatter(proj[:, 0], proj[:, 1], c=mnist.target, cmap=plt.cm.get_cmap('jet', 10))\n",
    "plt.colorbar(ticks=range(10))"
   ]
  },
  {
   "cell_type": "markdown",
   "metadata": {},
   "source": [
    "### 7 Feature Selection Implementation [No Points] <span style=\"color:blue\">**[P]**</span>\n",
    "\n",
    "**Note:** This is a fun question for you to learn about Feature Reduction. No points will be awarded for it. If you have time please go over it. It would be beneficial for your project.\n",
    "\n",
    "Implement a method to find the final list of significant features due to forward selection and backward elimination.\n",
    "\n",
    "#### Forward Selection: \n",
    "\n",
    "In forward selection, we start with a null model, start fitting the model with one individual feature at a time, and select the feature with the minimum p-value. We continue to do this until we have a set of features where one feature's p-value is less than the confidence level. \n",
    "\n",
    "Steps to implement it:\n",
    "- 1: Choose a significance level (given to you).\n",
    "- 2: Fit all possible simple regression models by considering one feature at a time.\n",
    "- 3: Select the feature with the lowest p-value.\n",
    "- 4: Fit all possible models with one extra feature added to the previously selected feature(s).\n",
    "- 5: Select the feature with the minimum p-value again. if p_value < significance, go to Step 4. Otherwise, terminate.\n",
    "\n",
    "#### Backward Elimination: \n",
    "\n",
    "In backward elimination, we start with a full model, and then remove the insignificant feature with the highest p-value (that is greater than the significance level). We continue to do this until we have a final set of significant features. \n",
    "\n",
    "Steps to implement it:\n",
    "- 1: Choose a significance level (given to you).\n",
    "- 2: Fit a full model including all the features.\n",
    "- 3: Select the feature with the highest p-value. If (p_value > significance level), go to Step 4, otherwise terminate.\n",
    "- 4: Remove the feature under consideration.\n",
    "- 5: Fit a model without this feature. Repeat entire process from Step 3 onwards.\n",
    "\n",
    "*TIP 1: The p-value is known as the observed significance value for a test hypothesis. It tests all the assumptions about how the data was generated in the model, not just the target hypothesis it was supposed to test. Some more information about p-values can be found here: https://towardsdatascience.com/what-is-a-p-value-b9e6c207247f*\n",
    "\n",
    "*TIP 2: For this function, you will have to install statsmodels if not installed already. Run 'pip install statsmodels' in command line/terminal. statsmodels is a Python module that provides classes and functions for the estimation of many different statistical models, as well as for conducting statistical tests, and statistical data exploration. You will have to use this library to choose a regression model to fit your data against. Some more information about this module can be found here: https://www.statsmodels.org/stable/index.html*"
   ]
  },
  {
   "cell_type": "code",
   "execution_count": null,
   "metadata": {},
   "outputs": [],
   "source": [
    "import pandas as pd\n",
    "import statsmodels.api as sm\n",
    "\n",
    "class FeatureReduction(object):\n",
    "    def __init__(self):\n",
    "        pass\n",
    "\n",
    "    @staticmethod\n",
    "    def forward_selection(data, target, significance_level=0.05):\n",
    "        '''\n",
    "        Args:\n",
    "            data: data frame that contains the feature matrix\n",
    "            target: target feature to search to generate significant features\n",
    "            significance_level: the probability of the event occuring by chance\n",
    "        Return:\n",
    "            forward_list: list containing significant features\n",
    "        '''\n",
    "        \n",
    "        raise NotImplementedError\n",
    "\n",
    "    @staticmethod\n",
    "    def backward_elimination(data, target, significance_level = 0.05):\n",
    "        '''\n",
    "        Args:\n",
    "            data: data frame that contains the feature matrix\n",
    "            target: target feature to search to generate significant features\n",
    "            significance_level: the probability of the event occuring by chance\n",
    "        Return:\n",
    "            backward_list: list containing significant features\n",
    "        '''\n",
    "        \n",
    "        raise NotImplementedError"
   ]
  },
  {
   "cell_type": "code",
   "execution_count": null,
   "metadata": {},
   "outputs": [],
   "source": [
    "# HELPER CELL, DO NOT MODIFY\n",
    "boston = load_boston()\n",
    "bos = pd.DataFrame(boston.data, columns = boston.feature_names)\n",
    "bos['Price'] = boston.target\n",
    "X = bos.drop(\"Price\", 1)       # feature matrix \n",
    "y = bos['Price']               # target feature\n",
    "featurereduction = FeatureReduction()\n",
    "#Run the functions to make sure two lists are generated, one for each method\n",
    "print(\"Features selected by forward selection:\", featurereduction.forward_selection(X, y))\n",
    "print(\"Features selected by backward selection:\", featurereduction.backward_elimination(X, y))"
   ]
  }
 ],
 "metadata": {
  "kernelspec": {
   "display_name": "Python 3",
   "language": "python",
   "name": "python3"
  },
  "language_info": {
   "codemirror_mode": {
    "name": "ipython",
    "version": 3
   },
   "file_extension": ".py",
   "mimetype": "text/x-python",
   "name": "python",
   "nbconvert_exporter": "python",
   "pygments_lexer": "ipython3",
   "version": "3.7.6"
  }
 },
 "nbformat": 4,
 "nbformat_minor": 4
}